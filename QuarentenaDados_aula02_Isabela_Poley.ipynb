{
  "nbformat": 4,
  "nbformat_minor": 0,
  "metadata": {
    "colab": {
      "name": "QuarentenaDados - aula02 - Isabela Poley",
      "provenance": [],
      "collapsed_sections": [
        "sG6vp0eCNdi2"
      ],
      "toc_visible": true,
      "include_colab_link": true
    },
    "kernelspec": {
      "name": "python3",
      "display_name": "Python 3"
    }
  },
  "cells": [
    {
      "cell_type": "markdown",
      "metadata": {
        "id": "view-in-github",
        "colab_type": "text"
      },
      "source": [
        "<a href=\"https://colab.research.google.com/github/isabelapoley/QuarentenaDados/blob/master/QuarentenaDados_aula02_Isabela_Poley.ipynb\" target=\"_parent\"><img src=\"https://colab.research.google.com/assets/colab-badge.svg\" alt=\"Open In Colab\"/></a>"
      ]
    },
    {
      "cell_type": "markdown",
      "metadata": {
        "id": "91SEnJ5CcBzL",
        "colab_type": "text"
      },
      "source": [
        "# Introdução\n",
        "\n",
        "Olá seja bem-vinda e bem-vindo ao notebook da **aula 02**, desça até o conteúdo da aula 02 e bons estudos (Se clicar na seta antes do título Aula 01 ela comprime todo o conteúndo da aula 1, deixando o layout mais agradavél).\n",
        "\n",
        "**Não esqueça de rodar todos as células de códigos da aula 01, antes de iniciar a aula 02**"
      ]
    },
    {
      "cell_type": "markdown",
      "metadata": {
        "id": "sG6vp0eCNdi2",
        "colab_type": "text"
      },
      "source": [
        "#Aula 01"
      ]
    },
    {
      "cell_type": "markdown",
      "metadata": {
        "id": "f7ibSyNTXtv9",
        "colab_type": "text"
      },
      "source": [
        "\n",
        "\n",
        "Nós estaremos desenvolvendo nosso projeto aqui no google colaboratory, assim podemos mesclar células contendo textos em formato markdown e células de código, além disso você não precisar instalar nada na sua máquina. Então que tal começar testando algumas linhas de código.\n",
        "\n",
        "Nesta primeira célula estamos realizando um ```print()```, lembre-se que esta função python imprime a string que estamos passando como parâmetro, então  o retorno é exibido logo abaixo da célula com código."
      ]
    },
    {
      "cell_type": "code",
      "metadata": {
        "id": "vC0a5z7IRFWT",
        "colab_type": "code",
        "outputId": "09e3ff04-c5a0-4372-e966-be015efeeb50",
        "colab": {
          "base_uri": "https://localhost:8080/",
          "height": 51
        }
      },
      "source": [
        "print(\"Guilherme Silveira\")\n",
        "print(\"Paulo Silveira\")"
      ],
      "execution_count": 0,
      "outputs": [
        {
          "output_type": "stream",
          "text": [
            "Guilherme Silveira\n",
            "Paulo Silveira\n"
          ],
          "name": "stdout"
        }
      ]
    },
    {
      "cell_type": "markdown",
      "metadata": {
        "id": "R2uQtgGLlaDs",
        "colab_type": "text"
      },
      "source": [
        "Agora vamos analisar a proxima célula de código. \n",
        "\n",
        "Aqui estamos fazendo uma atribuição de variável, conforme dito em aula, as atribuições não tem retorno, assim, diferente da célula anterior não temos um *output* logo abaixo do código."
      ]
    },
    {
      "cell_type": "code",
      "metadata": {
        "id": "i9-JUfxERKcN",
        "colab_type": "code",
        "colab": {}
      },
      "source": [
        "nome_do_filme = \"Totoro, o filme\""
      ],
      "execution_count": 0,
      "outputs": []
    },
    {
      "cell_type": "markdown",
      "metadata": {
        "id": "gQi3djrZmwZ8",
        "colab_type": "text"
      },
      "source": [
        "Agora que criamos a variável ```nome_do_filme```, podemos reutilizá-la, por exemplo na função ```print```, para assim imprimir a *string* \"Totoro, o filme\"."
      ]
    },
    {
      "cell_type": "code",
      "metadata": {
        "id": "3aFMfB0ERUcF",
        "colab_type": "code",
        "outputId": "3e1e358f-5875-4432-9b24-12d63d534436",
        "colab": {
          "base_uri": "https://localhost:8080/",
          "height": 34
        }
      },
      "source": [
        "print(nome_do_filme)"
      ],
      "execution_count": 0,
      "outputs": [
        {
          "output_type": "stream",
          "text": [
            "Totoro, o filme\n"
          ],
          "name": "stdout"
        }
      ]
    },
    {
      "cell_type": "code",
      "metadata": {
        "id": "Sg2NRrX9RXM-",
        "colab_type": "code",
        "outputId": "0b830070-89be-4863-d14e-d1499dfa6f58",
        "colab": {
          "base_uri": "https://localhost:8080/",
          "height": 34
        }
      },
      "source": [
        "nome_do_filme"
      ],
      "execution_count": 0,
      "outputs": [
        {
          "output_type": "execute_result",
          "data": {
            "text/plain": [
              "'Totoro, o filme'"
            ]
          },
          "metadata": {
            "tags": []
          },
          "execution_count": 4
        }
      ]
    },
    {
      "cell_type": "markdown",
      "metadata": {
        "id": "OuYA1aSIX0vJ",
        "colab_type": "text"
      },
      "source": [
        "## Lendo os dados do MovieLens\n",
        "\n",
        "Nosso primeiro passo foi conhecer e realizar um \"hello-world\" no colab, agora chegou a hora de importar os dados para o notebook e começar as análises.\n",
        "\n",
        "Vamos importar a biblioteca [pandas](https://pandas.pydata.org/), um poderoso projeto open source para análise de manipulação de dados. O primeiro passo é ler uma base de dados e podemos fazer isso com o comando ```pd.read_csv()```.\n",
        "\n",
        "Estamos lendo um arquivo **CSV** (Comma-separated values), neste tipo de arquivo os valores são separados por vírgulas e podem ser abertos em outras ferramentas como excel e google-sheet. CSV não é o único formato lido pelo pandas, temos o ```pd.read_excel()``` que lê arquivos **xlsx** entre diversos outros formatos, você pode encontrar mais informações na seção de [input/output da documentação](https://pandas.pydata.org/pandas-docs/stable/reference/io.html).\n",
        "\n",
        "Depois de ler o dataset, nós trocamos os nomes das colunas pelos termos em português, logo em seguida utilizamos o método ```filmes.head()``` para visualizar as primeiras 5 linhas do nosso dataframe. Outra forma de visualizar as informações dos dados é utilizando o método ```filmes.sample()```, se você tentar, vai verificar que ele retorna uma linha aleatória do seus dados. Para escolher aleatoriamente mais de 1 linha, por exemplo 5, é só passar esse valor desejado como parâmetro (```filmes.sample(5)```). "
      ]
    },
    {
      "cell_type": "code",
      "metadata": {
        "id": "fm9UvpjdRZjP",
        "colab_type": "code",
        "colab": {}
      },
      "source": [
        "import pandas as pd"
      ],
      "execution_count": 0,
      "outputs": []
    },
    {
      "cell_type": "code",
      "metadata": {
        "id": "uIoEtYpDUSbk",
        "colab_type": "code",
        "outputId": "3c329145-e8b4-4eba-b662-bcaedbf75262",
        "colab": {
          "base_uri": "https://localhost:8080/",
          "height": 204
        }
      },
      "source": [
        "filmes = pd.read_csv(\"https://raw.githubusercontent.com/alura-cursos/introducao-a-data-science/master/aula0/ml-latest-small/movies.csv\")\n",
        "# filmes é um DataFrame\n",
        "filmes.columns = [\"filmeId\", \"titulo\", \"generos\"]\n",
        "filmes.head()"
      ],
      "execution_count": 0,
      "outputs": [
        {
          "output_type": "execute_result",
          "data": {
            "text/html": [
              "<div>\n",
              "<style scoped>\n",
              "    .dataframe tbody tr th:only-of-type {\n",
              "        vertical-align: middle;\n",
              "    }\n",
              "\n",
              "    .dataframe tbody tr th {\n",
              "        vertical-align: top;\n",
              "    }\n",
              "\n",
              "    .dataframe thead th {\n",
              "        text-align: right;\n",
              "    }\n",
              "</style>\n",
              "<table border=\"1\" class=\"dataframe\">\n",
              "  <thead>\n",
              "    <tr style=\"text-align: right;\">\n",
              "      <th></th>\n",
              "      <th>filmeId</th>\n",
              "      <th>titulo</th>\n",
              "      <th>generos</th>\n",
              "    </tr>\n",
              "  </thead>\n",
              "  <tbody>\n",
              "    <tr>\n",
              "      <th>0</th>\n",
              "      <td>1</td>\n",
              "      <td>Toy Story (1995)</td>\n",
              "      <td>Adventure|Animation|Children|Comedy|Fantasy</td>\n",
              "    </tr>\n",
              "    <tr>\n",
              "      <th>1</th>\n",
              "      <td>2</td>\n",
              "      <td>Jumanji (1995)</td>\n",
              "      <td>Adventure|Children|Fantasy</td>\n",
              "    </tr>\n",
              "    <tr>\n",
              "      <th>2</th>\n",
              "      <td>3</td>\n",
              "      <td>Grumpier Old Men (1995)</td>\n",
              "      <td>Comedy|Romance</td>\n",
              "    </tr>\n",
              "    <tr>\n",
              "      <th>3</th>\n",
              "      <td>4</td>\n",
              "      <td>Waiting to Exhale (1995)</td>\n",
              "      <td>Comedy|Drama|Romance</td>\n",
              "    </tr>\n",
              "    <tr>\n",
              "      <th>4</th>\n",
              "      <td>5</td>\n",
              "      <td>Father of the Bride Part II (1995)</td>\n",
              "      <td>Comedy</td>\n",
              "    </tr>\n",
              "  </tbody>\n",
              "</table>\n",
              "</div>"
            ],
            "text/plain": [
              "   filmeId  ...                                      generos\n",
              "0        1  ...  Adventure|Animation|Children|Comedy|Fantasy\n",
              "1        2  ...                   Adventure|Children|Fantasy\n",
              "2        3  ...                               Comedy|Romance\n",
              "3        4  ...                         Comedy|Drama|Romance\n",
              "4        5  ...                                       Comedy\n",
              "\n",
              "[5 rows x 3 columns]"
            ]
          },
          "metadata": {
            "tags": []
          },
          "execution_count": 6
        }
      ]
    },
    {
      "cell_type": "markdown",
      "metadata": {
        "id": "bZ46r5yAYCDO",
        "colab_type": "text"
      },
      "source": [
        "Há pouco falamos para consultar a documentação para obter mais informações, mas será que é realmente preciso sair do notebook para tirar algumas dúvidas mais simples? \n",
        "\n",
        "Os notebooks facilitam a nossa vida podendo consultar o docstring das funções e métodos, rodando a célula com um **?** na frente da chamada, uma view é aberta com as informações resumidas. Veja a seguir alguns exemplos."
      ]
    },
    {
      "cell_type": "code",
      "metadata": {
        "id": "sKew1Wy0UYbu",
        "colab_type": "code",
        "colab": {}
      },
      "source": [
        "# lendo a documentação de um método/atributo\n",
        "\n",
        "?filmes.head"
      ],
      "execution_count": 0,
      "outputs": []
    },
    {
      "cell_type": "code",
      "metadata": {
        "id": "i6F4_qpeUzOq",
        "colab_type": "code",
        "colab": {}
      },
      "source": [
        "# lendo a documentação do tipo (docstring)\n",
        "\n",
        "?filmes"
      ],
      "execution_count": 0,
      "outputs": []
    },
    {
      "cell_type": "markdown",
      "metadata": {
        "id": "wwcenqbGYGAO",
        "colab_type": "text"
      },
      "source": [
        "A base de dados que usamos até o momento contém o nome do filme, ano de lançamento e gêneros. O MovieLens conta com outras informações que estão em bases separadas, uma delas é a de avaliações. \n",
        "\n",
        "Agora vamos analisar um pouco melhor o dataset de avaliações."
      ]
    },
    {
      "cell_type": "code",
      "metadata": {
        "id": "7A1UmccVVLeK",
        "colab_type": "code",
        "outputId": "bdf3e34d-63aa-4985-88ac-8ddd2f7c416f",
        "colab": {
          "base_uri": "https://localhost:8080/",
          "height": 204
        }
      },
      "source": [
        "avaliacoes = pd.read_csv(\"https://github.com/alura-cursos/introducao-a-data-science/blob/master/aula0/ml-latest-small/ratings.csv?raw=true\")\n",
        "avaliacoes.head()"
      ],
      "execution_count": 0,
      "outputs": [
        {
          "output_type": "execute_result",
          "data": {
            "text/html": [
              "<div>\n",
              "<style scoped>\n",
              "    .dataframe tbody tr th:only-of-type {\n",
              "        vertical-align: middle;\n",
              "    }\n",
              "\n",
              "    .dataframe tbody tr th {\n",
              "        vertical-align: top;\n",
              "    }\n",
              "\n",
              "    .dataframe thead th {\n",
              "        text-align: right;\n",
              "    }\n",
              "</style>\n",
              "<table border=\"1\" class=\"dataframe\">\n",
              "  <thead>\n",
              "    <tr style=\"text-align: right;\">\n",
              "      <th></th>\n",
              "      <th>userId</th>\n",
              "      <th>movieId</th>\n",
              "      <th>rating</th>\n",
              "      <th>timestamp</th>\n",
              "    </tr>\n",
              "  </thead>\n",
              "  <tbody>\n",
              "    <tr>\n",
              "      <th>0</th>\n",
              "      <td>1</td>\n",
              "      <td>1</td>\n",
              "      <td>4.0</td>\n",
              "      <td>964982703</td>\n",
              "    </tr>\n",
              "    <tr>\n",
              "      <th>1</th>\n",
              "      <td>1</td>\n",
              "      <td>3</td>\n",
              "      <td>4.0</td>\n",
              "      <td>964981247</td>\n",
              "    </tr>\n",
              "    <tr>\n",
              "      <th>2</th>\n",
              "      <td>1</td>\n",
              "      <td>6</td>\n",
              "      <td>4.0</td>\n",
              "      <td>964982224</td>\n",
              "    </tr>\n",
              "    <tr>\n",
              "      <th>3</th>\n",
              "      <td>1</td>\n",
              "      <td>47</td>\n",
              "      <td>5.0</td>\n",
              "      <td>964983815</td>\n",
              "    </tr>\n",
              "    <tr>\n",
              "      <th>4</th>\n",
              "      <td>1</td>\n",
              "      <td>50</td>\n",
              "      <td>5.0</td>\n",
              "      <td>964982931</td>\n",
              "    </tr>\n",
              "  </tbody>\n",
              "</table>\n",
              "</div>"
            ],
            "text/plain": [
              "   userId  movieId  rating  timestamp\n",
              "0       1        1     4.0  964982703\n",
              "1       1        3     4.0  964981247\n",
              "2       1        6     4.0  964982224\n",
              "3       1       47     5.0  964983815\n",
              "4       1       50     5.0  964982931"
            ]
          },
          "metadata": {
            "tags": []
          },
          "execution_count": 9
        }
      ]
    },
    {
      "cell_type": "markdown",
      "metadata": {
        "id": "otNlLBcYE1gP",
        "colab_type": "text"
      },
      "source": [
        "Para visualizar algumas linhas estamos usando o ```.head()```, como ela mostra apenas as 5 primeiras linhas não sabemos qual é a quantidade de linhas que temos. Para descobrir a \"forma\" dos nossos dados podemos utilizar o ```avaliacoes.shape```, retornando uma [tupla](https://www.alura.com.br/artigos/conhecendo-as-tuplas-no-python), onde o primeiro termo indica o número de linhas e o segundo o número de colunas."
      ]
    },
    {
      "cell_type": "code",
      "metadata": {
        "id": "QRXxNO5-VyJD",
        "colab_type": "code",
        "outputId": "5880136f-44d3-4fc0-f02c-8d4cffd4f4a4",
        "colab": {
          "base_uri": "https://localhost:8080/",
          "height": 34
        }
      },
      "source": [
        "avaliacoes.shape"
      ],
      "execution_count": 0,
      "outputs": [
        {
          "output_type": "execute_result",
          "data": {
            "text/plain": [
              "(100836, 4)"
            ]
          },
          "metadata": {
            "tags": []
          },
          "execution_count": 10
        }
      ]
    },
    {
      "cell_type": "code",
      "metadata": {
        "id": "Wo5ZCjYdV6To",
        "colab_type": "code",
        "outputId": "52d1c173-06a6-4f47-9ced-c449921d22b2",
        "colab": {
          "base_uri": "https://localhost:8080/",
          "height": 34
        }
      },
      "source": [
        "len(avaliacoes)"
      ],
      "execution_count": 0,
      "outputs": [
        {
          "output_type": "execute_result",
          "data": {
            "text/plain": [
              "100836"
            ]
          },
          "metadata": {
            "tags": []
          },
          "execution_count": 11
        }
      ]
    },
    {
      "cell_type": "markdown",
      "metadata": {
        "id": "5E9e-dkuGUaK",
        "colab_type": "text"
      },
      "source": [
        "Vamos substituir os nomes das colunas de inglês para português e entender o que são essas colunas. \n",
        "\n",
        "usarioId => ID para para usuário que votou em determinado filme.\n",
        "\n",
        "filmeId => ID para identificar um filme votado.\n",
        "\n",
        "nota => A nota dada para pelo usuário para o respectivo filme.\n",
        "\n",
        "momento => A data da votação que não está formatada como data\n",
        "\n",
        "Como cada linha contém um voto para o respectivo filme é de se esperar que um filme tenha diversos votos, mas repare que nas 5 primeiras linhas temos o filme **1, 3, 6, 47, 50**. Mas e se eu quiser analisar apenas as notas do filme 1, como posso separar essa informação?\n",
        "\n"
      ]
    },
    {
      "cell_type": "code",
      "metadata": {
        "id": "QblDDv4SWBvC",
        "colab_type": "code",
        "outputId": "0b255e53-9343-4934-9a37-a0eabbbd55b0",
        "colab": {
          "base_uri": "https://localhost:8080/",
          "height": 204
        }
      },
      "source": [
        "avaliacoes.columns = [\"usuarioId\", \"filmeId\", \"nota\", \"momento\"]\n",
        "avaliacoes.head()"
      ],
      "execution_count": 0,
      "outputs": [
        {
          "output_type": "execute_result",
          "data": {
            "text/html": [
              "<div>\n",
              "<style scoped>\n",
              "    .dataframe tbody tr th:only-of-type {\n",
              "        vertical-align: middle;\n",
              "    }\n",
              "\n",
              "    .dataframe tbody tr th {\n",
              "        vertical-align: top;\n",
              "    }\n",
              "\n",
              "    .dataframe thead th {\n",
              "        text-align: right;\n",
              "    }\n",
              "</style>\n",
              "<table border=\"1\" class=\"dataframe\">\n",
              "  <thead>\n",
              "    <tr style=\"text-align: right;\">\n",
              "      <th></th>\n",
              "      <th>usuarioId</th>\n",
              "      <th>filmeId</th>\n",
              "      <th>nota</th>\n",
              "      <th>momento</th>\n",
              "    </tr>\n",
              "  </thead>\n",
              "  <tbody>\n",
              "    <tr>\n",
              "      <th>0</th>\n",
              "      <td>1</td>\n",
              "      <td>1</td>\n",
              "      <td>4.0</td>\n",
              "      <td>964982703</td>\n",
              "    </tr>\n",
              "    <tr>\n",
              "      <th>1</th>\n",
              "      <td>1</td>\n",
              "      <td>3</td>\n",
              "      <td>4.0</td>\n",
              "      <td>964981247</td>\n",
              "    </tr>\n",
              "    <tr>\n",
              "      <th>2</th>\n",
              "      <td>1</td>\n",
              "      <td>6</td>\n",
              "      <td>4.0</td>\n",
              "      <td>964982224</td>\n",
              "    </tr>\n",
              "    <tr>\n",
              "      <th>3</th>\n",
              "      <td>1</td>\n",
              "      <td>47</td>\n",
              "      <td>5.0</td>\n",
              "      <td>964983815</td>\n",
              "    </tr>\n",
              "    <tr>\n",
              "      <th>4</th>\n",
              "      <td>1</td>\n",
              "      <td>50</td>\n",
              "      <td>5.0</td>\n",
              "      <td>964982931</td>\n",
              "    </tr>\n",
              "  </tbody>\n",
              "</table>\n",
              "</div>"
            ],
            "text/plain": [
              "   usuarioId  filmeId  nota    momento\n",
              "0          1        1   4.0  964982703\n",
              "1          1        3   4.0  964981247\n",
              "2          1        6   4.0  964982224\n",
              "3          1       47   5.0  964983815\n",
              "4          1       50   5.0  964982931"
            ]
          },
          "metadata": {
            "tags": []
          },
          "execution_count": 12
        }
      ]
    },
    {
      "cell_type": "markdown",
      "metadata": {
        "id": "W7qCWhXVICxr",
        "colab_type": "text"
      },
      "source": [
        "Uma forma para \"separar\" as informações apenas do **filmeId 1** é chamando o método ```avaliacaoes.query(\"filmeId==1\")```, esse método retornará apenas as linhas para quais a expressão booleana, \"filmeId==1\", for verdadeira.\n",
        "\n",
        "Tendo as informações do **filmeId 1** podemos chamar o ```avaliacoes_do_filme_1.describe()```, para analisar as estatítiscas gerais dos dados."
      ]
    },
    {
      "cell_type": "code",
      "metadata": {
        "id": "t26TcAKMWLx8",
        "colab_type": "code",
        "outputId": "3c09da64-9cd8-4428-f699-ddd484797b1c",
        "colab": {
          "base_uri": "https://localhost:8080/",
          "height": 204
        }
      },
      "source": [
        "avaliacoes_do_filme_1 = avaliacoes.query(\"filmeId==1\")\n",
        "avaliacoes_do_filme_1.head()"
      ],
      "execution_count": 0,
      "outputs": [
        {
          "output_type": "execute_result",
          "data": {
            "text/html": [
              "<div>\n",
              "<style scoped>\n",
              "    .dataframe tbody tr th:only-of-type {\n",
              "        vertical-align: middle;\n",
              "    }\n",
              "\n",
              "    .dataframe tbody tr th {\n",
              "        vertical-align: top;\n",
              "    }\n",
              "\n",
              "    .dataframe thead th {\n",
              "        text-align: right;\n",
              "    }\n",
              "</style>\n",
              "<table border=\"1\" class=\"dataframe\">\n",
              "  <thead>\n",
              "    <tr style=\"text-align: right;\">\n",
              "      <th></th>\n",
              "      <th>usuarioId</th>\n",
              "      <th>filmeId</th>\n",
              "      <th>nota</th>\n",
              "      <th>momento</th>\n",
              "    </tr>\n",
              "  </thead>\n",
              "  <tbody>\n",
              "    <tr>\n",
              "      <th>0</th>\n",
              "      <td>1</td>\n",
              "      <td>1</td>\n",
              "      <td>4.0</td>\n",
              "      <td>964982703</td>\n",
              "    </tr>\n",
              "    <tr>\n",
              "      <th>516</th>\n",
              "      <td>5</td>\n",
              "      <td>1</td>\n",
              "      <td>4.0</td>\n",
              "      <td>847434962</td>\n",
              "    </tr>\n",
              "    <tr>\n",
              "      <th>874</th>\n",
              "      <td>7</td>\n",
              "      <td>1</td>\n",
              "      <td>4.5</td>\n",
              "      <td>1106635946</td>\n",
              "    </tr>\n",
              "    <tr>\n",
              "      <th>1434</th>\n",
              "      <td>15</td>\n",
              "      <td>1</td>\n",
              "      <td>2.5</td>\n",
              "      <td>1510577970</td>\n",
              "    </tr>\n",
              "    <tr>\n",
              "      <th>1667</th>\n",
              "      <td>17</td>\n",
              "      <td>1</td>\n",
              "      <td>4.5</td>\n",
              "      <td>1305696483</td>\n",
              "    </tr>\n",
              "  </tbody>\n",
              "</table>\n",
              "</div>"
            ],
            "text/plain": [
              "      usuarioId  filmeId  nota     momento\n",
              "0             1        1   4.0   964982703\n",
              "516           5        1   4.0   847434962\n",
              "874           7        1   4.5  1106635946\n",
              "1434         15        1   2.5  1510577970\n",
              "1667         17        1   4.5  1305696483"
            ]
          },
          "metadata": {
            "tags": []
          },
          "execution_count": 13
        }
      ]
    },
    {
      "cell_type": "code",
      "metadata": {
        "id": "se3soadiWuG_",
        "colab_type": "code",
        "outputId": "774810bd-206c-4046-8db5-51064a46a0d1",
        "colab": {
          "base_uri": "https://localhost:8080/",
          "height": 297
        }
      },
      "source": [
        "avaliacoes_do_filme_1.describe()"
      ],
      "execution_count": 0,
      "outputs": [
        {
          "output_type": "execute_result",
          "data": {
            "text/html": [
              "<div>\n",
              "<style scoped>\n",
              "    .dataframe tbody tr th:only-of-type {\n",
              "        vertical-align: middle;\n",
              "    }\n",
              "\n",
              "    .dataframe tbody tr th {\n",
              "        vertical-align: top;\n",
              "    }\n",
              "\n",
              "    .dataframe thead th {\n",
              "        text-align: right;\n",
              "    }\n",
              "</style>\n",
              "<table border=\"1\" class=\"dataframe\">\n",
              "  <thead>\n",
              "    <tr style=\"text-align: right;\">\n",
              "      <th></th>\n",
              "      <th>usuarioId</th>\n",
              "      <th>filmeId</th>\n",
              "      <th>nota</th>\n",
              "      <th>momento</th>\n",
              "    </tr>\n",
              "  </thead>\n",
              "  <tbody>\n",
              "    <tr>\n",
              "      <th>count</th>\n",
              "      <td>215.000000</td>\n",
              "      <td>215.0</td>\n",
              "      <td>215.000000</td>\n",
              "      <td>2.150000e+02</td>\n",
              "    </tr>\n",
              "    <tr>\n",
              "      <th>mean</th>\n",
              "      <td>306.530233</td>\n",
              "      <td>1.0</td>\n",
              "      <td>3.920930</td>\n",
              "      <td>1.129835e+09</td>\n",
              "    </tr>\n",
              "    <tr>\n",
              "      <th>std</th>\n",
              "      <td>180.419754</td>\n",
              "      <td>0.0</td>\n",
              "      <td>0.834859</td>\n",
              "      <td>2.393163e+08</td>\n",
              "    </tr>\n",
              "    <tr>\n",
              "      <th>min</th>\n",
              "      <td>1.000000</td>\n",
              "      <td>1.0</td>\n",
              "      <td>0.500000</td>\n",
              "      <td>8.293223e+08</td>\n",
              "    </tr>\n",
              "    <tr>\n",
              "      <th>25%</th>\n",
              "      <td>155.500000</td>\n",
              "      <td>1.0</td>\n",
              "      <td>3.500000</td>\n",
              "      <td>8.779224e+08</td>\n",
              "    </tr>\n",
              "    <tr>\n",
              "      <th>50%</th>\n",
              "      <td>290.000000</td>\n",
              "      <td>1.0</td>\n",
              "      <td>4.000000</td>\n",
              "      <td>1.106855e+09</td>\n",
              "    </tr>\n",
              "    <tr>\n",
              "      <th>75%</th>\n",
              "      <td>468.500000</td>\n",
              "      <td>1.0</td>\n",
              "      <td>4.500000</td>\n",
              "      <td>1.348523e+09</td>\n",
              "    </tr>\n",
              "    <tr>\n",
              "      <th>max</th>\n",
              "      <td>610.000000</td>\n",
              "      <td>1.0</td>\n",
              "      <td>5.000000</td>\n",
              "      <td>1.535710e+09</td>\n",
              "    </tr>\n",
              "  </tbody>\n",
              "</table>\n",
              "</div>"
            ],
            "text/plain": [
              "        usuarioId  filmeId        nota       momento\n",
              "count  215.000000    215.0  215.000000  2.150000e+02\n",
              "mean   306.530233      1.0    3.920930  1.129835e+09\n",
              "std    180.419754      0.0    0.834859  2.393163e+08\n",
              "min      1.000000      1.0    0.500000  8.293223e+08\n",
              "25%    155.500000      1.0    3.500000  8.779224e+08\n",
              "50%    290.000000      1.0    4.000000  1.106855e+09\n",
              "75%    468.500000      1.0    4.500000  1.348523e+09\n",
              "max    610.000000      1.0    5.000000  1.535710e+09"
            ]
          },
          "metadata": {
            "tags": []
          },
          "execution_count": 14
        }
      ]
    },
    {
      "cell_type": "markdown",
      "metadata": {
        "id": "zUD1xulBKcou",
        "colab_type": "text"
      },
      "source": [
        "Caso queira uma estatística particular, podemos apenas chamar o método desajado, repare abaixo como calculamos apenas a média das avaliações do **filmeId 1**."
      ]
    },
    {
      "cell_type": "code",
      "metadata": {
        "id": "lf4dH46SW2ro",
        "colab_type": "code",
        "outputId": "18858545-c1ee-477c-adbc-87e014ebde11",
        "colab": {
          "base_uri": "https://localhost:8080/",
          "height": 102
        }
      },
      "source": [
        "avaliacoes_do_filme_1.mean()"
      ],
      "execution_count": 0,
      "outputs": [
        {
          "output_type": "execute_result",
          "data": {
            "text/plain": [
              "usuarioId    3.065302e+02\n",
              "filmeId      1.000000e+00\n",
              "nota         3.920930e+00\n",
              "momento      1.129835e+09\n",
              "dtype: float64"
            ]
          },
          "metadata": {
            "tags": []
          },
          "execution_count": 15
        }
      ]
    },
    {
      "cell_type": "markdown",
      "metadata": {
        "id": "dylF75HzK_nI",
        "colab_type": "text"
      },
      "source": [
        "Calculamos as estatísicas apenas para o **filmeId 1**, mas também podemos chamar o método ```.describe()``` para a base completa (avaliacões)."
      ]
    },
    {
      "cell_type": "code",
      "metadata": {
        "id": "jZ9ZtovSWS0C",
        "colab_type": "code",
        "outputId": "48969df3-a370-4cdf-be6d-846149a8cff7",
        "colab": {
          "base_uri": "https://localhost:8080/",
          "height": 297
        }
      },
      "source": [
        "avaliacoes.describe()"
      ],
      "execution_count": 0,
      "outputs": [
        {
          "output_type": "execute_result",
          "data": {
            "text/html": [
              "<div>\n",
              "<style scoped>\n",
              "    .dataframe tbody tr th:only-of-type {\n",
              "        vertical-align: middle;\n",
              "    }\n",
              "\n",
              "    .dataframe tbody tr th {\n",
              "        vertical-align: top;\n",
              "    }\n",
              "\n",
              "    .dataframe thead th {\n",
              "        text-align: right;\n",
              "    }\n",
              "</style>\n",
              "<table border=\"1\" class=\"dataframe\">\n",
              "  <thead>\n",
              "    <tr style=\"text-align: right;\">\n",
              "      <th></th>\n",
              "      <th>usuarioId</th>\n",
              "      <th>filmeId</th>\n",
              "      <th>nota</th>\n",
              "      <th>momento</th>\n",
              "    </tr>\n",
              "  </thead>\n",
              "  <tbody>\n",
              "    <tr>\n",
              "      <th>count</th>\n",
              "      <td>100836.000000</td>\n",
              "      <td>100836.000000</td>\n",
              "      <td>100836.000000</td>\n",
              "      <td>1.008360e+05</td>\n",
              "    </tr>\n",
              "    <tr>\n",
              "      <th>mean</th>\n",
              "      <td>326.127564</td>\n",
              "      <td>19435.295718</td>\n",
              "      <td>3.501557</td>\n",
              "      <td>1.205946e+09</td>\n",
              "    </tr>\n",
              "    <tr>\n",
              "      <th>std</th>\n",
              "      <td>182.618491</td>\n",
              "      <td>35530.987199</td>\n",
              "      <td>1.042529</td>\n",
              "      <td>2.162610e+08</td>\n",
              "    </tr>\n",
              "    <tr>\n",
              "      <th>min</th>\n",
              "      <td>1.000000</td>\n",
              "      <td>1.000000</td>\n",
              "      <td>0.500000</td>\n",
              "      <td>8.281246e+08</td>\n",
              "    </tr>\n",
              "    <tr>\n",
              "      <th>25%</th>\n",
              "      <td>177.000000</td>\n",
              "      <td>1199.000000</td>\n",
              "      <td>3.000000</td>\n",
              "      <td>1.019124e+09</td>\n",
              "    </tr>\n",
              "    <tr>\n",
              "      <th>50%</th>\n",
              "      <td>325.000000</td>\n",
              "      <td>2991.000000</td>\n",
              "      <td>3.500000</td>\n",
              "      <td>1.186087e+09</td>\n",
              "    </tr>\n",
              "    <tr>\n",
              "      <th>75%</th>\n",
              "      <td>477.000000</td>\n",
              "      <td>8122.000000</td>\n",
              "      <td>4.000000</td>\n",
              "      <td>1.435994e+09</td>\n",
              "    </tr>\n",
              "    <tr>\n",
              "      <th>max</th>\n",
              "      <td>610.000000</td>\n",
              "      <td>193609.000000</td>\n",
              "      <td>5.000000</td>\n",
              "      <td>1.537799e+09</td>\n",
              "    </tr>\n",
              "  </tbody>\n",
              "</table>\n",
              "</div>"
            ],
            "text/plain": [
              "           usuarioId        filmeId           nota       momento\n",
              "count  100836.000000  100836.000000  100836.000000  1.008360e+05\n",
              "mean      326.127564   19435.295718       3.501557  1.205946e+09\n",
              "std       182.618491   35530.987199       1.042529  2.162610e+08\n",
              "min         1.000000       1.000000       0.500000  8.281246e+08\n",
              "25%       177.000000    1199.000000       3.000000  1.019124e+09\n",
              "50%       325.000000    2991.000000       3.500000  1.186087e+09\n",
              "75%       477.000000    8122.000000       4.000000  1.435994e+09\n",
              "max       610.000000  193609.000000       5.000000  1.537799e+09"
            ]
          },
          "metadata": {
            "tags": []
          },
          "execution_count": 16
        }
      ]
    },
    {
      "cell_type": "markdown",
      "metadata": {
        "id": "4Kq3eGVXLmca",
        "colab_type": "text"
      },
      "source": [
        "Ok, nós calculamos um tanto de coisa usando `.describe()` e `.mean()`, mas a informação que realmente queremos é a média da nota. Então o ponto é, como calcular a média apenas das notas?\n",
        "\n",
        "A primeira coisa que precisamos fazer é selecionar apenas as informações de notas. Usando uma estrutura muito parecida com a de [chave-valor dos dicionários python](https://www.alura.com.br/artigos/trabalhando-com-o-dicionario-no-python). \n",
        "\n",
        "Com o comando ```avaliacoes[\"nota\"]```, obtemos os valores da coluna nota (repare que o tipo retornado é uma Série pandas, por isso o index de cada nota é mantido). Para calcular a média de todas as notas executamos ```avaliacoes[\"notas\"].means()```\n"
      ]
    },
    {
      "cell_type": "code",
      "metadata": {
        "id": "OnltfnYqWi40",
        "colab_type": "code",
        "outputId": "3689760b-3a23-4342-f2a7-83a4693a1922",
        "colab": {
          "base_uri": "https://localhost:8080/",
          "height": 221
        }
      },
      "source": [
        "avaliacoes[\"nota\"]"
      ],
      "execution_count": 0,
      "outputs": [
        {
          "output_type": "execute_result",
          "data": {
            "text/plain": [
              "0         4.0\n",
              "1         4.0\n",
              "2         4.0\n",
              "3         5.0\n",
              "4         5.0\n",
              "         ... \n",
              "100831    4.0\n",
              "100832    5.0\n",
              "100833    5.0\n",
              "100834    5.0\n",
              "100835    3.0\n",
              "Name: nota, Length: 100836, dtype: float64"
            ]
          },
          "metadata": {
            "tags": []
          },
          "execution_count": 17
        }
      ]
    },
    {
      "cell_type": "code",
      "metadata": {
        "id": "Xos6cYlmPWO6",
        "colab_type": "code",
        "outputId": "7b043917-7cd6-4922-b6cf-80169f79d942",
        "colab": {
          "base_uri": "https://localhost:8080/",
          "height": 34
        }
      },
      "source": [
        "avaliacoes[\"nota\"].mean()"
      ],
      "execution_count": 0,
      "outputs": [
        {
          "output_type": "execute_result",
          "data": {
            "text/plain": [
              "3.501556983616962"
            ]
          },
          "metadata": {
            "tags": []
          },
          "execution_count": 18
        }
      ]
    },
    {
      "cell_type": "markdown",
      "metadata": {
        "id": "u03bvyYZPvza",
        "colab_type": "text"
      },
      "source": [
        "Podemos calcular também na nota média do **filmeId 1**, repare que o resultado é um pouco maior que a geral. Apenas com essa análise não da para bater o martelo que o filme 1 é acima da média, mas apenas com essa análise conseguimos formular uma primeira hipótese!"
      ]
    },
    {
      "cell_type": "code",
      "metadata": {
        "id": "h8JDwB_2W8yR",
        "colab_type": "code",
        "outputId": "3e176e7f-693c-44be-cabd-15981ee43a1f",
        "colab": {
          "base_uri": "https://localhost:8080/",
          "height": 34
        }
      },
      "source": [
        "avaliacoes_do_filme_1[\"nota\"].mean()"
      ],
      "execution_count": 0,
      "outputs": [
        {
          "output_type": "execute_result",
          "data": {
            "text/plain": [
              "3.9209302325581397"
            ]
          },
          "metadata": {
            "tags": []
          },
          "execution_count": 19
        }
      ]
    },
    {
      "cell_type": "markdown",
      "metadata": {
        "id": "Wv6npVXeRuVl",
        "colab_type": "text"
      },
      "source": [
        "Nós calculamos uma média geral, uma média para o filmeId 1. Agora eu quero calcular a média das notas para todos os filmes, podemos fazer isso usando o método ```.groupby(filmeId)```, o parâmetro passado é para indicar qual coluna ele deve utilizar para \"agrupar\" os dados. Depois só calcular a média como fizemos anteriormente.\n",
        "\n"
      ]
    },
    {
      "cell_type": "code",
      "metadata": {
        "id": "78qsVDbWW-kf",
        "colab_type": "code",
        "outputId": "2648b01d-9c1b-4e0a-9a34-954d828461ba",
        "colab": {
          "base_uri": "https://localhost:8080/",
          "height": 136
        }
      },
      "source": [
        "notas_medias_por_filme = avaliacoes.groupby(\"filmeId\")[\"nota\"].mean()\n",
        "notas_medias_por_filme.head()"
      ],
      "execution_count": 0,
      "outputs": [
        {
          "output_type": "execute_result",
          "data": {
            "text/plain": [
              "filmeId\n",
              "1    3.920930\n",
              "2    3.431818\n",
              "3    3.259615\n",
              "4    2.357143\n",
              "5    3.071429\n",
              "Name: nota, dtype: float64"
            ]
          },
          "metadata": {
            "tags": []
          },
          "execution_count": 20
        }
      ]
    },
    {
      "cell_type": "markdown",
      "metadata": {
        "id": "gRyxEdyOWs4I",
        "colab_type": "text"
      },
      "source": [
        "Temos as notas médias calculadas, mas agora precisamos juntar as informações de notas médias com a base de dados **filmes**.\n",
        "\n",
        "Poderíamos criar uma nova coluna e atribuir a váriável `notas_medias_por_filme`, de forma direta:\n",
        "\n",
        "```filmes[\"nota_media\"] = notas_medias_por_filme```\n",
        "\n",
        "Como discutimos em aula, essa não é uma boa prática pois precisamos garantir que a nota média seja do respectivo filme.\n",
        "\n",
        "Para garantir essa condição vamos utilizar o ```.join()```, criando um novo dataframe (```filmes_com_media = filmes.join(notas_medias_por_filme, on=\"filmeId\")```). \n",
        "\n",
        "Veja como fazer, nas células a seguir."
      ]
    },
    {
      "cell_type": "code",
      "metadata": {
        "id": "jPTL419OYjto",
        "colab_type": "code",
        "outputId": "f3290da9-9132-499a-a94b-7264cb520044",
        "colab": {
          "base_uri": "https://localhost:8080/",
          "height": 419
        }
      },
      "source": [
        "filmes"
      ],
      "execution_count": 0,
      "outputs": [
        {
          "output_type": "execute_result",
          "data": {
            "text/html": [
              "<div>\n",
              "<style scoped>\n",
              "    .dataframe tbody tr th:only-of-type {\n",
              "        vertical-align: middle;\n",
              "    }\n",
              "\n",
              "    .dataframe tbody tr th {\n",
              "        vertical-align: top;\n",
              "    }\n",
              "\n",
              "    .dataframe thead th {\n",
              "        text-align: right;\n",
              "    }\n",
              "</style>\n",
              "<table border=\"1\" class=\"dataframe\">\n",
              "  <thead>\n",
              "    <tr style=\"text-align: right;\">\n",
              "      <th></th>\n",
              "      <th>filmeId</th>\n",
              "      <th>titulo</th>\n",
              "      <th>generos</th>\n",
              "    </tr>\n",
              "  </thead>\n",
              "  <tbody>\n",
              "    <tr>\n",
              "      <th>0</th>\n",
              "      <td>1</td>\n",
              "      <td>Toy Story (1995)</td>\n",
              "      <td>Adventure|Animation|Children|Comedy|Fantasy</td>\n",
              "    </tr>\n",
              "    <tr>\n",
              "      <th>1</th>\n",
              "      <td>2</td>\n",
              "      <td>Jumanji (1995)</td>\n",
              "      <td>Adventure|Children|Fantasy</td>\n",
              "    </tr>\n",
              "    <tr>\n",
              "      <th>2</th>\n",
              "      <td>3</td>\n",
              "      <td>Grumpier Old Men (1995)</td>\n",
              "      <td>Comedy|Romance</td>\n",
              "    </tr>\n",
              "    <tr>\n",
              "      <th>3</th>\n",
              "      <td>4</td>\n",
              "      <td>Waiting to Exhale (1995)</td>\n",
              "      <td>Comedy|Drama|Romance</td>\n",
              "    </tr>\n",
              "    <tr>\n",
              "      <th>4</th>\n",
              "      <td>5</td>\n",
              "      <td>Father of the Bride Part II (1995)</td>\n",
              "      <td>Comedy</td>\n",
              "    </tr>\n",
              "    <tr>\n",
              "      <th>...</th>\n",
              "      <td>...</td>\n",
              "      <td>...</td>\n",
              "      <td>...</td>\n",
              "    </tr>\n",
              "    <tr>\n",
              "      <th>9737</th>\n",
              "      <td>193581</td>\n",
              "      <td>Black Butler: Book of the Atlantic (2017)</td>\n",
              "      <td>Action|Animation|Comedy|Fantasy</td>\n",
              "    </tr>\n",
              "    <tr>\n",
              "      <th>9738</th>\n",
              "      <td>193583</td>\n",
              "      <td>No Game No Life: Zero (2017)</td>\n",
              "      <td>Animation|Comedy|Fantasy</td>\n",
              "    </tr>\n",
              "    <tr>\n",
              "      <th>9739</th>\n",
              "      <td>193585</td>\n",
              "      <td>Flint (2017)</td>\n",
              "      <td>Drama</td>\n",
              "    </tr>\n",
              "    <tr>\n",
              "      <th>9740</th>\n",
              "      <td>193587</td>\n",
              "      <td>Bungo Stray Dogs: Dead Apple (2018)</td>\n",
              "      <td>Action|Animation</td>\n",
              "    </tr>\n",
              "    <tr>\n",
              "      <th>9741</th>\n",
              "      <td>193609</td>\n",
              "      <td>Andrew Dice Clay: Dice Rules (1991)</td>\n",
              "      <td>Comedy</td>\n",
              "    </tr>\n",
              "  </tbody>\n",
              "</table>\n",
              "<p>9742 rows × 3 columns</p>\n",
              "</div>"
            ],
            "text/plain": [
              "      filmeId  ...                                      generos\n",
              "0           1  ...  Adventure|Animation|Children|Comedy|Fantasy\n",
              "1           2  ...                   Adventure|Children|Fantasy\n",
              "2           3  ...                               Comedy|Romance\n",
              "3           4  ...                         Comedy|Drama|Romance\n",
              "4           5  ...                                       Comedy\n",
              "...       ...  ...                                          ...\n",
              "9737   193581  ...              Action|Animation|Comedy|Fantasy\n",
              "9738   193583  ...                     Animation|Comedy|Fantasy\n",
              "9739   193585  ...                                        Drama\n",
              "9740   193587  ...                             Action|Animation\n",
              "9741   193609  ...                                       Comedy\n",
              "\n",
              "[9742 rows x 3 columns]"
            ]
          },
          "metadata": {
            "tags": []
          },
          "execution_count": 21
        }
      ]
    },
    {
      "cell_type": "code",
      "metadata": {
        "id": "AVlwJvZRZCQP",
        "colab_type": "code",
        "outputId": "d7de8832-3a94-471c-b0e8-6e5a53320085",
        "colab": {
          "base_uri": "https://localhost:8080/",
          "height": 238
        }
      },
      "source": [
        "notas_medias_por_filme"
      ],
      "execution_count": 0,
      "outputs": [
        {
          "output_type": "execute_result",
          "data": {
            "text/plain": [
              "filmeId\n",
              "1         3.920930\n",
              "2         3.431818\n",
              "3         3.259615\n",
              "4         2.357143\n",
              "5         3.071429\n",
              "            ...   \n",
              "193581    4.000000\n",
              "193583    3.500000\n",
              "193585    3.500000\n",
              "193587    3.500000\n",
              "193609    4.000000\n",
              "Name: nota, Length: 9724, dtype: float64"
            ]
          },
          "metadata": {
            "tags": []
          },
          "execution_count": 22
        }
      ]
    },
    {
      "cell_type": "code",
      "metadata": {
        "id": "hoUllrZFZgsA",
        "colab_type": "code",
        "outputId": "988089cf-f976-499c-9c89-7558024b88fd",
        "colab": {
          "base_uri": "https://localhost:8080/",
          "height": 204
        }
      },
      "source": [
        "filmes_com_media = filmes.join(notas_medias_por_filme, on=\"filmeId\")\n",
        "filmes_com_media.head()"
      ],
      "execution_count": 0,
      "outputs": [
        {
          "output_type": "execute_result",
          "data": {
            "text/html": [
              "<div>\n",
              "<style scoped>\n",
              "    .dataframe tbody tr th:only-of-type {\n",
              "        vertical-align: middle;\n",
              "    }\n",
              "\n",
              "    .dataframe tbody tr th {\n",
              "        vertical-align: top;\n",
              "    }\n",
              "\n",
              "    .dataframe thead th {\n",
              "        text-align: right;\n",
              "    }\n",
              "</style>\n",
              "<table border=\"1\" class=\"dataframe\">\n",
              "  <thead>\n",
              "    <tr style=\"text-align: right;\">\n",
              "      <th></th>\n",
              "      <th>filmeId</th>\n",
              "      <th>titulo</th>\n",
              "      <th>generos</th>\n",
              "      <th>nota</th>\n",
              "    </tr>\n",
              "  </thead>\n",
              "  <tbody>\n",
              "    <tr>\n",
              "      <th>0</th>\n",
              "      <td>1</td>\n",
              "      <td>Toy Story (1995)</td>\n",
              "      <td>Adventure|Animation|Children|Comedy|Fantasy</td>\n",
              "      <td>3.920930</td>\n",
              "    </tr>\n",
              "    <tr>\n",
              "      <th>1</th>\n",
              "      <td>2</td>\n",
              "      <td>Jumanji (1995)</td>\n",
              "      <td>Adventure|Children|Fantasy</td>\n",
              "      <td>3.431818</td>\n",
              "    </tr>\n",
              "    <tr>\n",
              "      <th>2</th>\n",
              "      <td>3</td>\n",
              "      <td>Grumpier Old Men (1995)</td>\n",
              "      <td>Comedy|Romance</td>\n",
              "      <td>3.259615</td>\n",
              "    </tr>\n",
              "    <tr>\n",
              "      <th>3</th>\n",
              "      <td>4</td>\n",
              "      <td>Waiting to Exhale (1995)</td>\n",
              "      <td>Comedy|Drama|Romance</td>\n",
              "      <td>2.357143</td>\n",
              "    </tr>\n",
              "    <tr>\n",
              "      <th>4</th>\n",
              "      <td>5</td>\n",
              "      <td>Father of the Bride Part II (1995)</td>\n",
              "      <td>Comedy</td>\n",
              "      <td>3.071429</td>\n",
              "    </tr>\n",
              "  </tbody>\n",
              "</table>\n",
              "</div>"
            ],
            "text/plain": [
              "   filmeId  ...      nota\n",
              "0        1  ...  3.920930\n",
              "1        2  ...  3.431818\n",
              "2        3  ...  3.259615\n",
              "3        4  ...  2.357143\n",
              "4        5  ...  3.071429\n",
              "\n",
              "[5 rows x 4 columns]"
            ]
          },
          "metadata": {
            "tags": []
          },
          "execution_count": 23
        }
      ]
    },
    {
      "cell_type": "markdown",
      "metadata": {
        "id": "IDLHWb9cYkuy",
        "colab_type": "text"
      },
      "source": [
        "Agora que temos as médias, que tal visualizar o nosso dataframe ordenado pela nota de forma decrescente?"
      ]
    },
    {
      "cell_type": "code",
      "metadata": {
        "id": "MLNCjcgdaOb5",
        "colab_type": "code",
        "outputId": "c742795b-4c6b-4cb6-d686-8aa26fdffebd",
        "colab": {
          "base_uri": "https://localhost:8080/",
          "height": 514
        }
      },
      "source": [
        "filmes_com_media.sort_values(\"nota\", ascending=False).head(15)"
      ],
      "execution_count": 0,
      "outputs": [
        {
          "output_type": "execute_result",
          "data": {
            "text/html": [
              "<div>\n",
              "<style scoped>\n",
              "    .dataframe tbody tr th:only-of-type {\n",
              "        vertical-align: middle;\n",
              "    }\n",
              "\n",
              "    .dataframe tbody tr th {\n",
              "        vertical-align: top;\n",
              "    }\n",
              "\n",
              "    .dataframe thead th {\n",
              "        text-align: right;\n",
              "    }\n",
              "</style>\n",
              "<table border=\"1\" class=\"dataframe\">\n",
              "  <thead>\n",
              "    <tr style=\"text-align: right;\">\n",
              "      <th></th>\n",
              "      <th>filmeId</th>\n",
              "      <th>titulo</th>\n",
              "      <th>generos</th>\n",
              "      <th>nota</th>\n",
              "    </tr>\n",
              "  </thead>\n",
              "  <tbody>\n",
              "    <tr>\n",
              "      <th>7656</th>\n",
              "      <td>88448</td>\n",
              "      <td>Paper Birds (Pájaros de papel) (2010)</td>\n",
              "      <td>Comedy|Drama</td>\n",
              "      <td>5.0</td>\n",
              "    </tr>\n",
              "    <tr>\n",
              "      <th>8107</th>\n",
              "      <td>100556</td>\n",
              "      <td>Act of Killing, The (2012)</td>\n",
              "      <td>Documentary</td>\n",
              "      <td>5.0</td>\n",
              "    </tr>\n",
              "    <tr>\n",
              "      <th>9083</th>\n",
              "      <td>143031</td>\n",
              "      <td>Jump In! (2007)</td>\n",
              "      <td>Comedy|Drama|Romance</td>\n",
              "      <td>5.0</td>\n",
              "    </tr>\n",
              "    <tr>\n",
              "      <th>9094</th>\n",
              "      <td>143511</td>\n",
              "      <td>Human (2015)</td>\n",
              "      <td>Documentary</td>\n",
              "      <td>5.0</td>\n",
              "    </tr>\n",
              "    <tr>\n",
              "      <th>9096</th>\n",
              "      <td>143559</td>\n",
              "      <td>L.A. Slasher (2015)</td>\n",
              "      <td>Comedy|Crime|Fantasy</td>\n",
              "      <td>5.0</td>\n",
              "    </tr>\n",
              "    <tr>\n",
              "      <th>4251</th>\n",
              "      <td>6201</td>\n",
              "      <td>Lady Jane (1986)</td>\n",
              "      <td>Drama|Romance</td>\n",
              "      <td>5.0</td>\n",
              "    </tr>\n",
              "    <tr>\n",
              "      <th>8154</th>\n",
              "      <td>102217</td>\n",
              "      <td>Bill Hicks: Revelations (1993)</td>\n",
              "      <td>Comedy</td>\n",
              "      <td>5.0</td>\n",
              "    </tr>\n",
              "    <tr>\n",
              "      <th>8148</th>\n",
              "      <td>102084</td>\n",
              "      <td>Justice League: Doom (2012)</td>\n",
              "      <td>Action|Animation|Fantasy</td>\n",
              "      <td>5.0</td>\n",
              "    </tr>\n",
              "    <tr>\n",
              "      <th>4246</th>\n",
              "      <td>6192</td>\n",
              "      <td>Open Hearts (Elsker dig for evigt) (2002)</td>\n",
              "      <td>Romance</td>\n",
              "      <td>5.0</td>\n",
              "    </tr>\n",
              "    <tr>\n",
              "      <th>9122</th>\n",
              "      <td>145994</td>\n",
              "      <td>Formula of Love (1984)</td>\n",
              "      <td>Comedy</td>\n",
              "      <td>5.0</td>\n",
              "    </tr>\n",
              "    <tr>\n",
              "      <th>8115</th>\n",
              "      <td>100906</td>\n",
              "      <td>Maniac Cop 2 (1990)</td>\n",
              "      <td>Action|Horror|Thriller</td>\n",
              "      <td>5.0</td>\n",
              "    </tr>\n",
              "    <tr>\n",
              "      <th>9129</th>\n",
              "      <td>146662</td>\n",
              "      <td>Dragons: Gift of the Night Fury (2011)</td>\n",
              "      <td>Adventure|Animation|Comedy</td>\n",
              "      <td>5.0</td>\n",
              "    </tr>\n",
              "    <tr>\n",
              "      <th>8074</th>\n",
              "      <td>99636</td>\n",
              "      <td>English Vinglish (2012)</td>\n",
              "      <td>Comedy|Drama</td>\n",
              "      <td>5.0</td>\n",
              "    </tr>\n",
              "    <tr>\n",
              "      <th>5785</th>\n",
              "      <td>31522</td>\n",
              "      <td>Marriage of Maria Braun, The (Ehe der Maria Br...</td>\n",
              "      <td>Drama</td>\n",
              "      <td>5.0</td>\n",
              "    </tr>\n",
              "    <tr>\n",
              "      <th>9131</th>\n",
              "      <td>146684</td>\n",
              "      <td>Cosmic Scrat-tastrophe (2015)</td>\n",
              "      <td>Animation|Children|Comedy</td>\n",
              "      <td>5.0</td>\n",
              "    </tr>\n",
              "  </tbody>\n",
              "</table>\n",
              "</div>"
            ],
            "text/plain": [
              "      filmeId  ... nota\n",
              "7656    88448  ...  5.0\n",
              "8107   100556  ...  5.0\n",
              "9083   143031  ...  5.0\n",
              "9094   143511  ...  5.0\n",
              "9096   143559  ...  5.0\n",
              "4251     6201  ...  5.0\n",
              "8154   102217  ...  5.0\n",
              "8148   102084  ...  5.0\n",
              "4246     6192  ...  5.0\n",
              "9122   145994  ...  5.0\n",
              "8115   100906  ...  5.0\n",
              "9129   146662  ...  5.0\n",
              "8074    99636  ...  5.0\n",
              "5785    31522  ...  5.0\n",
              "9131   146684  ...  5.0\n",
              "\n",
              "[15 rows x 4 columns]"
            ]
          },
          "metadata": {
            "tags": []
          },
          "execution_count": 24
        }
      ]
    },
    {
      "cell_type": "markdown",
      "metadata": {
        "id": "D4Yw8FhlhDT1",
        "colab_type": "text"
      },
      "source": [
        "Fizemos um tanto de análise e manipulação de dados interessante, não é?\n",
        "\n",
        "Mas diz a verdade, você está sentindo falta daquele gráfico que todo cientista de dados adora =D, então bora plotar nosso primeiro gráfico!\n",
        "\n",
        "O pandas facilita muito o plot de alguns gráficos simples, apenas selecionamos a informação que gostaríamos de visualizar e chamamos o método ```.plot()```"
      ]
    },
    {
      "cell_type": "code",
      "metadata": {
        "id": "usWDMMoUiG-l",
        "colab_type": "code",
        "outputId": "fb5235f8-681e-4c67-d52a-88c6bebda191",
        "colab": {
          "base_uri": "https://localhost:8080/",
          "height": 282
        }
      },
      "source": [
        "avaliacoes.query(\"filmeId == 1\")[\"nota\"].plot()"
      ],
      "execution_count": 0,
      "outputs": [
        {
          "output_type": "execute_result",
          "data": {
            "text/plain": [
              "<matplotlib.axes._subplots.AxesSubplot at 0x7f98be5014a8>"
            ]
          },
          "metadata": {
            "tags": []
          },
          "execution_count": 25
        },
        {
          "output_type": "display_data",
          "data": {
            "image/png": "[encoded data removed]",
            "text/plain": [
              "<Figure size 432x288 with 1 Axes>"
            ]
          },
          "metadata": {
            "tags": [],
            "needs_background": "light"
          }
        }
      ]
    },
    {
      "cell_type": "markdown",
      "metadata": {
        "id": "AazOm8Xeipmf",
        "colab_type": "text"
      },
      "source": [
        "Por padrão o método plotou um gráfico de linhas, o que não é adequado para os dados que estamos analisando.\n",
        "\n",
        "Precisamos mudar o tipo de gráfico para realizar uma análise mais adequada, para fazer isso apenas alteramos o parâmetro **kind** do método ```.plot```. Vamos plotar um [histograma](https://pt.wikipedia.org/wiki/Histograma) rodando a célula a seguir."
      ]
    },
    {
      "cell_type": "code",
      "metadata": {
        "id": "W2s2pBHck1Zt",
        "colab_type": "code",
        "outputId": "31476435-b09e-4b4d-ab11-d6bf15f439f3",
        "colab": {
          "base_uri": "https://localhost:8080/",
          "height": 282
        }
      },
      "source": [
        "avaliacoes.query(\"filmeId == 1\")[\"nota\"].plot(kind='hist')"
      ],
      "execution_count": 0,
      "outputs": [
        {
          "output_type": "execute_result",
          "data": {
            "text/plain": [
              "<matplotlib.axes._subplots.AxesSubplot at 0x7f98be447eb8>"
            ]
          },
          "metadata": {
            "tags": []
          },
          "execution_count": 26
        },
        {
          "output_type": "display_data",
          "data": {
            "image/png": "[encoded data removed]",
            "text/plain": [
              "<Figure size 432x288 with 1 Axes>"
            ]
          },
          "metadata": {
            "tags": [],
            "needs_background": "light"
          }
        }
      ]
    },
    {
      "cell_type": "markdown",
      "metadata": {
        "id": "oYEI1fBOlEdk",
        "colab_type": "text"
      },
      "source": [
        "Legal, agora temos uma visualização muito mais agradavel de analisar. Compare com o gráfico de linhas, qual você acha melhor para análise? \n",
        "\n",
        "P.S: Deixar de usar o gráfico de linhas, não significa que sejá uma visualização ruim. Apenas quer dizer que nossos dados não tem características ideias para serem visualizados como um *line plot*, agora pense em uma [série temporal](https://pt.wikipedia.org/wiki/S%C3%A9rie_temporal). **Você acha que o gráfico de linhas ainda seria uma má ideia?**\n",
        "\n",
        "Antes de analisar o histograms de outros filmes, quero colocar um título na imagem. Vamos ver como podemos fazer isso!\n"
      ]
    },
    {
      "cell_type": "code",
      "metadata": {
        "id": "C8KHmAMbmPJA",
        "colab_type": "code",
        "outputId": "fd60e49c-1c0b-4b48-dfcd-27eb8a530a14",
        "colab": {
          "base_uri": "https://localhost:8080/",
          "height": 298
        }
      },
      "source": [
        "avaliacoes.query(\"filmeId == 1\")[\"nota\"].plot(kind='hist',\n",
        "                                              title=\"Avaliações do filme Toy Story\")"
      ],
      "execution_count": 0,
      "outputs": [
        {
          "output_type": "execute_result",
          "data": {
            "text/plain": [
              "<matplotlib.axes._subplots.AxesSubplot at 0x7f98bdfd7b00>"
            ]
          },
          "metadata": {
            "tags": []
          },
          "execution_count": 27
        },
        {
          "output_type": "display_data",
          "data": {
            "image/png": "[encoded data removed]",
            "text/plain": [
              "<Figure size 432x288 with 1 Axes>"
            ]
          },
          "metadata": {
            "tags": [],
            "needs_background": "light"
          }
        }
      ]
    },
    {
      "cell_type": "markdown",
      "metadata": {
        "id": "yY9xg7-KnFpb",
        "colab_type": "text"
      },
      "source": [
        "Claro que python tem outras ferramentas muito poderosas para manipular gráficos, uma delas é o [matplotlib](https://matplotlib.org/).\n",
        "\n",
        "Que tal experimentar um pouquinho esta poderosa ferramenta? \n",
        "\n",
        "Vamos importar a lib e adicionar título no gráfico usando o matplotlib, veja como fica na célula a seguir."
      ]
    },
    {
      "cell_type": "code",
      "metadata": {
        "id": "kSJBUpCmamqK",
        "colab_type": "code",
        "outputId": "de377365-49d5-4a94-f0db-5f6629073ac6",
        "colab": {
          "base_uri": "https://localhost:8080/",
          "height": 281
        }
      },
      "source": [
        "import matplotlib.pyplot as plt\n",
        "\n",
        "avaliacoes.query(\"filmeId == 1\")[\"nota\"].plot(kind='hist')\n",
        "plt.title(\"Avaliações do filme Toy Story\")\n",
        "plt.show()"
      ],
      "execution_count": 0,
      "outputs": [
        {
          "output_type": "display_data",
          "data": {
            "image/png": "[encoded data removed]",
            "text/plain": [
              "<Figure size 432x288 with 1 Axes>"
            ]
          },
          "metadata": {
            "tags": [],
            "needs_background": "light"
          }
        }
      ]
    },
    {
      "cell_type": "markdown",
      "metadata": {
        "id": "pagvE8ntpfzv",
        "colab_type": "text"
      },
      "source": [
        "Agora que aprendemos a criar um histograma e manipular os gráficos, vamos plotar informações de outros filmes e realizar uma análise desses gráficos?\n",
        "\n",
        "Vamos plotar o histograma do filme Jumanji e da animação Liga da justiça: Doom."
      ]
    },
    {
      "cell_type": "code",
      "metadata": {
        "id": "vEJ5uiDpdKzC",
        "colab_type": "code",
        "outputId": "0b576a85-fd75-4313-d377-1792ced370f5",
        "colab": {
          "base_uri": "https://localhost:8080/",
          "height": 298
        }
      },
      "source": [
        "avaliacoes.query(\"filmeId == 2\")[\"nota\"].plot(kind='hist',\n",
        "                                              title=\"Avaliações do filme Toy Jumanji\")"
      ],
      "execution_count": 0,
      "outputs": [
        {
          "output_type": "execute_result",
          "data": {
            "text/plain": [
              "<matplotlib.axes._subplots.AxesSubplot at 0x7f98bde802e8>"
            ]
          },
          "metadata": {
            "tags": []
          },
          "execution_count": 29
        },
        {
          "output_type": "display_data",
          "data": {
            "image/png": "[encoded data removed]",
            "text/plain": [
              "<Figure size 432x288 with 1 Axes>"
            ]
          },
          "metadata": {
            "tags": [],
            "needs_background": "light"
          }
        }
      ]
    },
    {
      "cell_type": "code",
      "metadata": {
        "id": "3qI60nGXdt3W",
        "colab_type": "code",
        "outputId": "0ce5473e-14e7-43e5-ad38-56c248bb5538",
        "colab": {
          "base_uri": "https://localhost:8080/",
          "height": 298
        }
      },
      "source": [
        "avaliacoes.query(\"filmeId == 102084\")[\"nota\"].plot(kind='hist',\n",
        "                                                   title=\"Avaliações do filme Justice League: Doom\")"
      ],
      "execution_count": 0,
      "outputs": [
        {
          "output_type": "execute_result",
          "data": {
            "text/plain": [
              "<matplotlib.axes._subplots.AxesSubplot at 0x7f98bde09518>"
            ]
          },
          "metadata": {
            "tags": []
          },
          "execution_count": 30
        },
        {
          "output_type": "display_data",
          "data": {
            "image/png": "[encoded data removed]",
            "text/plain": [
              "<Figure size 432x288 with 1 Axes>"
            ]
          },
          "metadata": {
            "tags": [],
            "needs_background": "light"
          }
        }
      ]
    },
    {
      "cell_type": "markdown",
      "metadata": {
        "id": "wQ1VGLaFqI7z",
        "colab_type": "text"
      },
      "source": [
        "Agora que temos os gráficos, chegou a hora de analisar.\n",
        "\n",
        "A primeira coisa que preciso saber é o que cada eixo do meu gráfico significa. Então, eixo **x** mostra a nota, enquanto eixo **y** a frequência das notas (quantas vezes determinada nota foi dada). \n",
        "\n",
        "Entendido nosso gráfico, vamos contextualizar o cenário que estamos analisando:\n",
        "\n",
        " - Temos 3 filmes, dois muito populares (Toy story e Jumanji) e outro que nenhuma pessoa presente no momento da aula conhecia (animação da liga da justiça). O ponto que chamou a atenção, foi que a animação tinha média de nota maior que dois filmes, aparentemente mais popular, Jumaji e Toy Story. **Será que a animação é um filme tão bom assim?**\n",
        "\n",
        "\n",
        "Dado esse cenário a primeira coisa que me chama a atenção é a animação da liga da justiça ter média de nota igual a 5. Ao analisar o histograma do respectivo filme, verificamos que ele só teve uma avaliação igual a 5, logo, fica evidente que a **quantidade de votos é um aspecto importante na avaliação das médias**. Com apenas uma avaliação, não conseguimos garantir que o filme é realmente bom, tornando a avaliação muito \"volátil\". Imagina que Liga da Justiça receba mais uma avaliação, com nota 0, assim a média seria 2.5. Apenas com mais essa avaliação o filme passaria a ser considerada um \"pior\" que Jumanji e Toy Story.\n",
        "\n",
        "Outro ponto interessante é comparar o histograma de Toy Story e Jumanji, ambos tem médias \"relativamente próximas\". Mas repare que a distribuição de notas são diferentes, Toy Story recebe mais notas 5 e 4 que qualquer outra nota, enquanto Jumanji recebe mais notas 4 e 3, assim concluímos que a **distribuição das notas também é um fator importante na avaliação das médias**.(Se ficar alguma dúvida sobre esse tema reveja o exemplo que o instrutor apresenta no final na aula) \n",
        "\n",
        "\n",
        "Com isso nós fechamos a nossa primeira aula do **#quarentenadados**, viu quanta coisa aprendemos? Que tal colocar isso em prática?\n",
        "\n",
        "\n",
        "**Crie seu próprio notebook, reproduza nossa aula e resolva os desafios que deixamos para vocês**.\n",
        "\n",
        "\n",
        "Até a próxima aula!\n",
        "\n",
        "\n",
        "\n",
        "\n",
        "\n",
        "\n"
      ]
    },
    {
      "cell_type": "markdown",
      "metadata": {
        "id": "iJ0nFiyXZu8M",
        "colab_type": "text"
      },
      "source": [
        "## Desafio 1 do [Paulo Silveira](https://twitter.com/paulo_caelum)\n",
        "\n",
        "O Paulo fez uma análise rápida e disse que tem 18 filmes sem avaliações, será que ele acertou?\n",
        "\n",
        "Determine quantos filmes não tem avaliações e quais são esses filmes.\n"
      ]
    },
    {
      "cell_type": "code",
      "metadata": {
        "id": "odTHiW5POyVo",
        "colab_type": "code",
        "outputId": "c3f5451a-9286-4ace-a4de-bda61eb3165b",
        "colab": {
          "base_uri": "https://localhost:8080/",
          "height": 607
        }
      },
      "source": [
        "selecao = filmes_com_media['nota'].isnull()\n",
        "filmes_com_media[selecao]"
      ],
      "execution_count": 0,
      "outputs": [
        {
          "output_type": "execute_result",
          "data": {
            "text/html": [
              "<div>\n",
              "<style scoped>\n",
              "    .dataframe tbody tr th:only-of-type {\n",
              "        vertical-align: middle;\n",
              "    }\n",
              "\n",
              "    .dataframe tbody tr th {\n",
              "        vertical-align: top;\n",
              "    }\n",
              "\n",
              "    .dataframe thead th {\n",
              "        text-align: right;\n",
              "    }\n",
              "</style>\n",
              "<table border=\"1\" class=\"dataframe\">\n",
              "  <thead>\n",
              "    <tr style=\"text-align: right;\">\n",
              "      <th></th>\n",
              "      <th>filmeId</th>\n",
              "      <th>titulo</th>\n",
              "      <th>generos</th>\n",
              "      <th>nota</th>\n",
              "    </tr>\n",
              "  </thead>\n",
              "  <tbody>\n",
              "    <tr>\n",
              "      <th>816</th>\n",
              "      <td>1076</td>\n",
              "      <td>Innocents, The (1961)</td>\n",
              "      <td>Drama|Horror|Thriller</td>\n",
              "      <td>NaN</td>\n",
              "    </tr>\n",
              "    <tr>\n",
              "      <th>2211</th>\n",
              "      <td>2939</td>\n",
              "      <td>Niagara (1953)</td>\n",
              "      <td>Drama|Thriller</td>\n",
              "      <td>NaN</td>\n",
              "    </tr>\n",
              "    <tr>\n",
              "      <th>2499</th>\n",
              "      <td>3338</td>\n",
              "      <td>For All Mankind (1989)</td>\n",
              "      <td>Documentary</td>\n",
              "      <td>NaN</td>\n",
              "    </tr>\n",
              "    <tr>\n",
              "      <th>2587</th>\n",
              "      <td>3456</td>\n",
              "      <td>Color of Paradise, The (Rang-e khoda) (1999)</td>\n",
              "      <td>Drama</td>\n",
              "      <td>NaN</td>\n",
              "    </tr>\n",
              "    <tr>\n",
              "      <th>3118</th>\n",
              "      <td>4194</td>\n",
              "      <td>I Know Where I'm Going! (1945)</td>\n",
              "      <td>Drama|Romance|War</td>\n",
              "      <td>NaN</td>\n",
              "    </tr>\n",
              "    <tr>\n",
              "      <th>4037</th>\n",
              "      <td>5721</td>\n",
              "      <td>Chosen, The (1981)</td>\n",
              "      <td>Drama</td>\n",
              "      <td>NaN</td>\n",
              "    </tr>\n",
              "    <tr>\n",
              "      <th>4506</th>\n",
              "      <td>6668</td>\n",
              "      <td>Road Home, The (Wo de fu qin mu qin) (1999)</td>\n",
              "      <td>Drama|Romance</td>\n",
              "      <td>NaN</td>\n",
              "    </tr>\n",
              "    <tr>\n",
              "      <th>4598</th>\n",
              "      <td>6849</td>\n",
              "      <td>Scrooge (1970)</td>\n",
              "      <td>Drama|Fantasy|Musical</td>\n",
              "      <td>NaN</td>\n",
              "    </tr>\n",
              "    <tr>\n",
              "      <th>4704</th>\n",
              "      <td>7020</td>\n",
              "      <td>Proof (1991)</td>\n",
              "      <td>Comedy|Drama|Romance</td>\n",
              "      <td>NaN</td>\n",
              "    </tr>\n",
              "    <tr>\n",
              "      <th>5020</th>\n",
              "      <td>7792</td>\n",
              "      <td>Parallax View, The (1974)</td>\n",
              "      <td>Thriller</td>\n",
              "      <td>NaN</td>\n",
              "    </tr>\n",
              "    <tr>\n",
              "      <th>5293</th>\n",
              "      <td>8765</td>\n",
              "      <td>This Gun for Hire (1942)</td>\n",
              "      <td>Crime|Film-Noir|Thriller</td>\n",
              "      <td>NaN</td>\n",
              "    </tr>\n",
              "    <tr>\n",
              "      <th>5421</th>\n",
              "      <td>25855</td>\n",
              "      <td>Roaring Twenties, The (1939)</td>\n",
              "      <td>Crime|Drama|Thriller</td>\n",
              "      <td>NaN</td>\n",
              "    </tr>\n",
              "    <tr>\n",
              "      <th>5452</th>\n",
              "      <td>26085</td>\n",
              "      <td>Mutiny on the Bounty (1962)</td>\n",
              "      <td>Adventure|Drama|Romance</td>\n",
              "      <td>NaN</td>\n",
              "    </tr>\n",
              "    <tr>\n",
              "      <th>5749</th>\n",
              "      <td>30892</td>\n",
              "      <td>In the Realms of the Unreal (2004)</td>\n",
              "      <td>Animation|Documentary</td>\n",
              "      <td>NaN</td>\n",
              "    </tr>\n",
              "    <tr>\n",
              "      <th>5824</th>\n",
              "      <td>32160</td>\n",
              "      <td>Twentieth Century (1934)</td>\n",
              "      <td>Comedy</td>\n",
              "      <td>NaN</td>\n",
              "    </tr>\n",
              "    <tr>\n",
              "      <th>5837</th>\n",
              "      <td>32371</td>\n",
              "      <td>Call Northside 777 (1948)</td>\n",
              "      <td>Crime|Drama|Film-Noir</td>\n",
              "      <td>NaN</td>\n",
              "    </tr>\n",
              "    <tr>\n",
              "      <th>5957</th>\n",
              "      <td>34482</td>\n",
              "      <td>Browning Version, The (1951)</td>\n",
              "      <td>Drama</td>\n",
              "      <td>NaN</td>\n",
              "    </tr>\n",
              "    <tr>\n",
              "      <th>7565</th>\n",
              "      <td>85565</td>\n",
              "      <td>Chalet Girl (2011)</td>\n",
              "      <td>Comedy|Romance</td>\n",
              "      <td>NaN</td>\n",
              "    </tr>\n",
              "  </tbody>\n",
              "</table>\n",
              "</div>"
            ],
            "text/plain": [
              "      filmeId  ... nota\n",
              "816      1076  ...  NaN\n",
              "2211     2939  ...  NaN\n",
              "2499     3338  ...  NaN\n",
              "2587     3456  ...  NaN\n",
              "3118     4194  ...  NaN\n",
              "4037     5721  ...  NaN\n",
              "4506     6668  ...  NaN\n",
              "4598     6849  ...  NaN\n",
              "4704     7020  ...  NaN\n",
              "5020     7792  ...  NaN\n",
              "5293     8765  ...  NaN\n",
              "5421    25855  ...  NaN\n",
              "5452    26085  ...  NaN\n",
              "5749    30892  ...  NaN\n",
              "5824    32160  ...  NaN\n",
              "5837    32371  ...  NaN\n",
              "5957    34482  ...  NaN\n",
              "7565    85565  ...  NaN\n",
              "\n",
              "[18 rows x 4 columns]"
            ]
          },
          "metadata": {
            "tags": []
          },
          "execution_count": 58
        }
      ]
    },
    {
      "cell_type": "markdown",
      "metadata": {
        "id": "3e8LMGJAaiXJ",
        "colab_type": "text"
      },
      "source": [
        "## Desafio 2 do [Guilherme Silveira](https://twitter.com/guilhermecaelum)\n",
        "\n",
        "Mudar o nome da coluna nota do dataframe **filmes_com_media** para nota_média após o join."
      ]
    },
    {
      "cell_type": "code",
      "metadata": {
        "id": "4fQmdM6lO01O",
        "colab_type": "code",
        "outputId": "ce51997f-55d3-4fb0-fbf3-c012c18caede",
        "colab": {
          "base_uri": "https://localhost:8080/",
          "height": 204
        }
      },
      "source": [
        "filmes_com_media = filmes_com_media.rename(columns={'nota': 'nota_media'})\n",
        "filmes_com_media.head()"
      ],
      "execution_count": 0,
      "outputs": [
        {
          "output_type": "execute_result",
          "data": {
            "text/html": [
              "<div>\n",
              "<style scoped>\n",
              "    .dataframe tbody tr th:only-of-type {\n",
              "        vertical-align: middle;\n",
              "    }\n",
              "\n",
              "    .dataframe tbody tr th {\n",
              "        vertical-align: top;\n",
              "    }\n",
              "\n",
              "    .dataframe thead th {\n",
              "        text-align: right;\n",
              "    }\n",
              "</style>\n",
              "<table border=\"1\" class=\"dataframe\">\n",
              "  <thead>\n",
              "    <tr style=\"text-align: right;\">\n",
              "      <th></th>\n",
              "      <th>filmeId</th>\n",
              "      <th>titulo</th>\n",
              "      <th>generos</th>\n",
              "      <th>nota_media</th>\n",
              "    </tr>\n",
              "  </thead>\n",
              "  <tbody>\n",
              "    <tr>\n",
              "      <th>0</th>\n",
              "      <td>1</td>\n",
              "      <td>Toy Story (1995)</td>\n",
              "      <td>Adventure|Animation|Children|Comedy|Fantasy</td>\n",
              "      <td>3.920930</td>\n",
              "    </tr>\n",
              "    <tr>\n",
              "      <th>1</th>\n",
              "      <td>2</td>\n",
              "      <td>Jumanji (1995)</td>\n",
              "      <td>Adventure|Children|Fantasy</td>\n",
              "      <td>3.431818</td>\n",
              "    </tr>\n",
              "    <tr>\n",
              "      <th>2</th>\n",
              "      <td>3</td>\n",
              "      <td>Grumpier Old Men (1995)</td>\n",
              "      <td>Comedy|Romance</td>\n",
              "      <td>3.259615</td>\n",
              "    </tr>\n",
              "    <tr>\n",
              "      <th>3</th>\n",
              "      <td>4</td>\n",
              "      <td>Waiting to Exhale (1995)</td>\n",
              "      <td>Comedy|Drama|Romance</td>\n",
              "      <td>2.357143</td>\n",
              "    </tr>\n",
              "    <tr>\n",
              "      <th>4</th>\n",
              "      <td>5</td>\n",
              "      <td>Father of the Bride Part II (1995)</td>\n",
              "      <td>Comedy</td>\n",
              "      <td>3.071429</td>\n",
              "    </tr>\n",
              "  </tbody>\n",
              "</table>\n",
              "</div>"
            ],
            "text/plain": [
              "   filmeId  ... nota_media\n",
              "0        1  ...   3.920930\n",
              "1        2  ...   3.431818\n",
              "2        3  ...   3.259615\n",
              "3        4  ...   2.357143\n",
              "4        5  ...   3.071429\n",
              "\n",
              "[5 rows x 4 columns]"
            ]
          },
          "metadata": {
            "tags": []
          },
          "execution_count": 59
        }
      ]
    },
    {
      "cell_type": "markdown",
      "metadata": {
        "id": "cXqu2wt0a2l6",
        "colab_type": "text"
      },
      "source": [
        "## Desafio 3 do [Guilherme Silveira](https://twitter.com/guilhermecaelum)\n",
        "\n",
        "Colocar o número de avaliações por filme, isto é, não só a média mas o TOTAL de votos por filme."
      ]
    },
    {
      "cell_type": "code",
      "metadata": {
        "id": "KWhiBs4qO74V",
        "colab_type": "code",
        "outputId": "031e8627-9f36-4968-f4e9-0792e1e39ab0",
        "colab": {
          "base_uri": "https://localhost:8080/",
          "height": 136
        }
      },
      "source": [
        "total_votos_por_filme = avaliacoes.groupby('filmeId')['nota'].count()\n",
        "total_votos_por_filme.head()"
      ],
      "execution_count": 0,
      "outputs": [
        {
          "output_type": "execute_result",
          "data": {
            "text/plain": [
              "filmeId\n",
              "1    215\n",
              "2    110\n",
              "3     52\n",
              "4      7\n",
              "5     49\n",
              "Name: nota, dtype: int64"
            ]
          },
          "metadata": {
            "tags": []
          },
          "execution_count": 60
        }
      ]
    },
    {
      "cell_type": "code",
      "metadata": {
        "id": "Emf7r18EPEXj",
        "colab_type": "code",
        "outputId": "6d3991f3-3a8b-452b-d68e-79fb29f2b502",
        "colab": {
          "base_uri": "https://localhost:8080/",
          "height": 204
        }
      },
      "source": [
        "filmes_com_media_e_votos = filmes_com_media.join(total_votos_por_filme, on='filmeId')\n",
        "filmes_com_media_e_votos = filmes_com_media_e_votos.rename(columns={'nota': 'total_votos'})\n",
        "filmes_com_media_e_votos.head()"
      ],
      "execution_count": 0,
      "outputs": [
        {
          "output_type": "execute_result",
          "data": {
            "text/html": [
              "<div>\n",
              "<style scoped>\n",
              "    .dataframe tbody tr th:only-of-type {\n",
              "        vertical-align: middle;\n",
              "    }\n",
              "\n",
              "    .dataframe tbody tr th {\n",
              "        vertical-align: top;\n",
              "    }\n",
              "\n",
              "    .dataframe thead th {\n",
              "        text-align: right;\n",
              "    }\n",
              "</style>\n",
              "<table border=\"1\" class=\"dataframe\">\n",
              "  <thead>\n",
              "    <tr style=\"text-align: right;\">\n",
              "      <th></th>\n",
              "      <th>filmeId</th>\n",
              "      <th>titulo</th>\n",
              "      <th>generos</th>\n",
              "      <th>nota_media</th>\n",
              "      <th>total_votos</th>\n",
              "    </tr>\n",
              "  </thead>\n",
              "  <tbody>\n",
              "    <tr>\n",
              "      <th>0</th>\n",
              "      <td>1</td>\n",
              "      <td>Toy Story (1995)</td>\n",
              "      <td>Adventure|Animation|Children|Comedy|Fantasy</td>\n",
              "      <td>3.920930</td>\n",
              "      <td>215.0</td>\n",
              "    </tr>\n",
              "    <tr>\n",
              "      <th>1</th>\n",
              "      <td>2</td>\n",
              "      <td>Jumanji (1995)</td>\n",
              "      <td>Adventure|Children|Fantasy</td>\n",
              "      <td>3.431818</td>\n",
              "      <td>110.0</td>\n",
              "    </tr>\n",
              "    <tr>\n",
              "      <th>2</th>\n",
              "      <td>3</td>\n",
              "      <td>Grumpier Old Men (1995)</td>\n",
              "      <td>Comedy|Romance</td>\n",
              "      <td>3.259615</td>\n",
              "      <td>52.0</td>\n",
              "    </tr>\n",
              "    <tr>\n",
              "      <th>3</th>\n",
              "      <td>4</td>\n",
              "      <td>Waiting to Exhale (1995)</td>\n",
              "      <td>Comedy|Drama|Romance</td>\n",
              "      <td>2.357143</td>\n",
              "      <td>7.0</td>\n",
              "    </tr>\n",
              "    <tr>\n",
              "      <th>4</th>\n",
              "      <td>5</td>\n",
              "      <td>Father of the Bride Part II (1995)</td>\n",
              "      <td>Comedy</td>\n",
              "      <td>3.071429</td>\n",
              "      <td>49.0</td>\n",
              "    </tr>\n",
              "  </tbody>\n",
              "</table>\n",
              "</div>"
            ],
            "text/plain": [
              "   filmeId                              titulo  ... nota_media  total_votos\n",
              "0        1                    Toy Story (1995)  ...   3.920930        215.0\n",
              "1        2                      Jumanji (1995)  ...   3.431818        110.0\n",
              "2        3             Grumpier Old Men (1995)  ...   3.259615         52.0\n",
              "3        4            Waiting to Exhale (1995)  ...   2.357143          7.0\n",
              "4        5  Father of the Bride Part II (1995)  ...   3.071429         49.0\n",
              "\n",
              "[5 rows x 5 columns]"
            ]
          },
          "metadata": {
            "tags": []
          },
          "execution_count": 61
        }
      ]
    },
    {
      "cell_type": "markdown",
      "metadata": {
        "id": "fZ5F6qwVeVWt",
        "colab_type": "text"
      },
      "source": [
        "## Desafio 4 do [Thiago Gonçalves](https://twitter.com/tgcsantos)\n",
        "\n",
        "Arredondar as médias (coluna de nota média) para duas casas decimais."
      ]
    },
    {
      "cell_type": "code",
      "metadata": {
        "id": "wFUju671PJU2",
        "colab_type": "code",
        "outputId": "214056a9-b21f-4b4f-dd2a-7bd53e581b45",
        "colab": {
          "base_uri": "https://localhost:8080/",
          "height": 419
        }
      },
      "source": [
        "filmes_com_media_e_votos['nota_media'] = filmes_com_media_e_votos['nota_media'].round(2)\n",
        "filmes_com_media_e_votos "
      ],
      "execution_count": 0,
      "outputs": [
        {
          "output_type": "execute_result",
          "data": {
            "text/html": [
              "<div>\n",
              "<style scoped>\n",
              "    .dataframe tbody tr th:only-of-type {\n",
              "        vertical-align: middle;\n",
              "    }\n",
              "\n",
              "    .dataframe tbody tr th {\n",
              "        vertical-align: top;\n",
              "    }\n",
              "\n",
              "    .dataframe thead th {\n",
              "        text-align: right;\n",
              "    }\n",
              "</style>\n",
              "<table border=\"1\" class=\"dataframe\">\n",
              "  <thead>\n",
              "    <tr style=\"text-align: right;\">\n",
              "      <th></th>\n",
              "      <th>filmeId</th>\n",
              "      <th>titulo</th>\n",
              "      <th>generos</th>\n",
              "      <th>nota_media</th>\n",
              "      <th>total_votos</th>\n",
              "    </tr>\n",
              "  </thead>\n",
              "  <tbody>\n",
              "    <tr>\n",
              "      <th>0</th>\n",
              "      <td>1</td>\n",
              "      <td>Toy Story (1995)</td>\n",
              "      <td>Adventure|Animation|Children|Comedy|Fantasy</td>\n",
              "      <td>3.92</td>\n",
              "      <td>215.0</td>\n",
              "    </tr>\n",
              "    <tr>\n",
              "      <th>1</th>\n",
              "      <td>2</td>\n",
              "      <td>Jumanji (1995)</td>\n",
              "      <td>Adventure|Children|Fantasy</td>\n",
              "      <td>3.43</td>\n",
              "      <td>110.0</td>\n",
              "    </tr>\n",
              "    <tr>\n",
              "      <th>2</th>\n",
              "      <td>3</td>\n",
              "      <td>Grumpier Old Men (1995)</td>\n",
              "      <td>Comedy|Romance</td>\n",
              "      <td>3.26</td>\n",
              "      <td>52.0</td>\n",
              "    </tr>\n",
              "    <tr>\n",
              "      <th>3</th>\n",
              "      <td>4</td>\n",
              "      <td>Waiting to Exhale (1995)</td>\n",
              "      <td>Comedy|Drama|Romance</td>\n",
              "      <td>2.36</td>\n",
              "      <td>7.0</td>\n",
              "    </tr>\n",
              "    <tr>\n",
              "      <th>4</th>\n",
              "      <td>5</td>\n",
              "      <td>Father of the Bride Part II (1995)</td>\n",
              "      <td>Comedy</td>\n",
              "      <td>3.07</td>\n",
              "      <td>49.0</td>\n",
              "    </tr>\n",
              "    <tr>\n",
              "      <th>...</th>\n",
              "      <td>...</td>\n",
              "      <td>...</td>\n",
              "      <td>...</td>\n",
              "      <td>...</td>\n",
              "      <td>...</td>\n",
              "    </tr>\n",
              "    <tr>\n",
              "      <th>9737</th>\n",
              "      <td>193581</td>\n",
              "      <td>Black Butler: Book of the Atlantic (2017)</td>\n",
              "      <td>Action|Animation|Comedy|Fantasy</td>\n",
              "      <td>4.00</td>\n",
              "      <td>1.0</td>\n",
              "    </tr>\n",
              "    <tr>\n",
              "      <th>9738</th>\n",
              "      <td>193583</td>\n",
              "      <td>No Game No Life: Zero (2017)</td>\n",
              "      <td>Animation|Comedy|Fantasy</td>\n",
              "      <td>3.50</td>\n",
              "      <td>1.0</td>\n",
              "    </tr>\n",
              "    <tr>\n",
              "      <th>9739</th>\n",
              "      <td>193585</td>\n",
              "      <td>Flint (2017)</td>\n",
              "      <td>Drama</td>\n",
              "      <td>3.50</td>\n",
              "      <td>1.0</td>\n",
              "    </tr>\n",
              "    <tr>\n",
              "      <th>9740</th>\n",
              "      <td>193587</td>\n",
              "      <td>Bungo Stray Dogs: Dead Apple (2018)</td>\n",
              "      <td>Action|Animation</td>\n",
              "      <td>3.50</td>\n",
              "      <td>1.0</td>\n",
              "    </tr>\n",
              "    <tr>\n",
              "      <th>9741</th>\n",
              "      <td>193609</td>\n",
              "      <td>Andrew Dice Clay: Dice Rules (1991)</td>\n",
              "      <td>Comedy</td>\n",
              "      <td>4.00</td>\n",
              "      <td>1.0</td>\n",
              "    </tr>\n",
              "  </tbody>\n",
              "</table>\n",
              "<p>9742 rows × 5 columns</p>\n",
              "</div>"
            ],
            "text/plain": [
              "      filmeId  ... total_votos\n",
              "0           1  ...       215.0\n",
              "1           2  ...       110.0\n",
              "2           3  ...        52.0\n",
              "3           4  ...         7.0\n",
              "4           5  ...        49.0\n",
              "...       ...  ...         ...\n",
              "9737   193581  ...         1.0\n",
              "9738   193583  ...         1.0\n",
              "9739   193585  ...         1.0\n",
              "9740   193587  ...         1.0\n",
              "9741   193609  ...         1.0\n",
              "\n",
              "[9742 rows x 5 columns]"
            ]
          },
          "metadata": {
            "tags": []
          },
          "execution_count": 62
        }
      ]
    },
    {
      "cell_type": "markdown",
      "metadata": {
        "id": "mYzG73cSeigN",
        "colab_type": "text"
      },
      "source": [
        "## Desafio 5 do [Allan Spadini](https://twitter.com/allanspadini)\n",
        "\n",
        "Descobrir os generos dos filmes (quais são eles, únicos). (esse aqui o bicho pega)"
      ]
    },
    {
      "cell_type": "code",
      "metadata": {
        "id": "03AzxJ2TPNHd",
        "colab_type": "code",
        "outputId": "a5739240-52e3-42ee-b7b4-29a9f7cc5af8",
        "colab": {
          "base_uri": "https://localhost:8080/",
          "height": 357
        }
      },
      "source": [
        "generos_df = filmes_com_media_e_votos.generos.str.get_dummies('|')\n",
        "generos = generos_df.columns.to_list()\n",
        "generos"
      ],
      "execution_count": 0,
      "outputs": [
        {
          "output_type": "execute_result",
          "data": {
            "text/plain": [
              "['(no genres listed)',\n",
              " 'Action',\n",
              " 'Adventure',\n",
              " 'Animation',\n",
              " 'Children',\n",
              " 'Comedy',\n",
              " 'Crime',\n",
              " 'Documentary',\n",
              " 'Drama',\n",
              " 'Fantasy',\n",
              " 'Film-Noir',\n",
              " 'Horror',\n",
              " 'IMAX',\n",
              " 'Musical',\n",
              " 'Mystery',\n",
              " 'Romance',\n",
              " 'Sci-Fi',\n",
              " 'Thriller',\n",
              " 'War',\n",
              " 'Western']"
            ]
          },
          "metadata": {
            "tags": []
          },
          "execution_count": 63
        }
      ]
    },
    {
      "cell_type": "markdown",
      "metadata": {
        "id": "enM3lF2textZ",
        "colab_type": "text"
      },
      "source": [
        "## Desafio 6 da [Thais André](https://twitter.com/thais_tandre)\n",
        "\n",
        "Contar o número de aparições de cada genero."
      ]
    },
    {
      "cell_type": "code",
      "metadata": {
        "id": "_i6WRdQgPRAd",
        "colab_type": "code",
        "outputId": "0146f3d5-96a2-46f5-f3c2-2be5298215e9",
        "colab": {
          "base_uri": "https://localhost:8080/",
          "height": 374
        }
      },
      "source": [
        "total_filmes_por_genero = filmes_com_media_e_votos.generos.str.get_dummies().sum()\n",
        "total_filmes_por_genero"
      ],
      "execution_count": 0,
      "outputs": [
        {
          "output_type": "execute_result",
          "data": {
            "text/plain": [
              "(no genres listed)      34\n",
              "Action                1828\n",
              "Adventure             1263\n",
              "Animation              611\n",
              "Children               664\n",
              "Comedy                3756\n",
              "Crime                 1199\n",
              "Documentary            440\n",
              "Drama                 4361\n",
              "Fantasy                779\n",
              "Film-Noir               87\n",
              "Horror                 978\n",
              "IMAX                   158\n",
              "Musical                334\n",
              "Mystery                573\n",
              "Romance               1596\n",
              "Sci-Fi                 980\n",
              "Thriller              1894\n",
              "War                    382\n",
              "Western                167\n",
              "dtype: int64"
            ]
          },
          "metadata": {
            "tags": []
          },
          "execution_count": 64
        }
      ]
    },
    {
      "cell_type": "markdown",
      "metadata": {
        "id": "SVVAZGGdfA_s",
        "colab_type": "text"
      },
      "source": [
        "## Desafio 7 do [Guilherme Silveira](https://twitter.com/guilhermecaelum)\n",
        "\n",
        "Plotar o gráfico de aparições de cada genero. Pode ser um gráfico de tipo igual a barra."
      ]
    },
    {
      "cell_type": "code",
      "metadata": {
        "id": "casdcX-EPVP0",
        "colab_type": "code",
        "outputId": "69861b74-d427-4b53-dbc1-2c1301a310ae",
        "colab": {
          "base_uri": "https://localhost:8080/",
          "height": 469
        }
      },
      "source": [
        "total_filmes_por_genero.sort_values(ascending=False).plot(kind='bar', figsize=(16, 6))"
      ],
      "execution_count": 0,
      "outputs": [
        {
          "output_type": "execute_result",
          "data": {
            "text/plain": [
              "<matplotlib.axes._subplots.AxesSubplot at 0x7f98b32be438>"
            ]
          },
          "metadata": {
            "tags": []
          },
          "execution_count": 65
        },
        {
          "output_type": "display_data",
          "data": {
            "image/png": "[encoded data removed]",
            "text/plain": [
              "<Figure size 1152x432 with 1 Axes>"
            ]
          },
          "metadata": {
            "tags": []
          }
        }
      ]
    },
    {
      "cell_type": "markdown",
      "metadata": {
        "id": "tSRJRLLwOBzF",
        "colab_type": "text"
      },
      "source": [
        "# Aula 02"
      ]
    },
    {
      "cell_type": "markdown",
      "metadata": {
        "id": "3Y4U0nYnOSGp",
        "colab_type": "text"
      },
      "source": [
        "Nesta aula vamos estudar com mais profundidade as técnicas de centralidade, conhecer algumas boas práticas de visualização de dados e o famoso Boxplot.\n",
        "\n",
        "Para inciar vamos precisar resolver alguns dos desafios deixados na **aula 01** (Caso não tenha tentado resolver os desafios, recomendo tentar algumas vezes antes de olhar as repostas). Começando pelo exercício 05, onde precisamos segregar os gêneros de cada um dos filmes contidos na base de dados do **Movie Lens**.\n",
        "\n",
        "Vamos relembrar como os dados estavam configurados."
      ]
    },
    {
      "cell_type": "code",
      "metadata": {
        "id": "I9-RWwoFQree",
        "colab_type": "code",
        "outputId": "1e241bf3-343c-4b96-ff93-266dc82cd705",
        "colab": {
          "base_uri": "https://localhost:8080/",
          "height": 204
        }
      },
      "source": [
        "filmes.head()"
      ],
      "execution_count": 0,
      "outputs": [
        {
          "output_type": "execute_result",
          "data": {
            "text/html": [
              "<div>\n",
              "<style scoped>\n",
              "    .dataframe tbody tr th:only-of-type {\n",
              "        vertical-align: middle;\n",
              "    }\n",
              "\n",
              "    .dataframe tbody tr th {\n",
              "        vertical-align: top;\n",
              "    }\n",
              "\n",
              "    .dataframe thead th {\n",
              "        text-align: right;\n",
              "    }\n",
              "</style>\n",
              "<table border=\"1\" class=\"dataframe\">\n",
              "  <thead>\n",
              "    <tr style=\"text-align: right;\">\n",
              "      <th></th>\n",
              "      <th>filmeId</th>\n",
              "      <th>titulo</th>\n",
              "      <th>generos</th>\n",
              "    </tr>\n",
              "  </thead>\n",
              "  <tbody>\n",
              "    <tr>\n",
              "      <th>0</th>\n",
              "      <td>1</td>\n",
              "      <td>Toy Story (1995)</td>\n",
              "      <td>Adventure|Animation|Children|Comedy|Fantasy</td>\n",
              "    </tr>\n",
              "    <tr>\n",
              "      <th>1</th>\n",
              "      <td>2</td>\n",
              "      <td>Jumanji (1995)</td>\n",
              "      <td>Adventure|Children|Fantasy</td>\n",
              "    </tr>\n",
              "    <tr>\n",
              "      <th>2</th>\n",
              "      <td>3</td>\n",
              "      <td>Grumpier Old Men (1995)</td>\n",
              "      <td>Comedy|Romance</td>\n",
              "    </tr>\n",
              "    <tr>\n",
              "      <th>3</th>\n",
              "      <td>4</td>\n",
              "      <td>Waiting to Exhale (1995)</td>\n",
              "      <td>Comedy|Drama|Romance</td>\n",
              "    </tr>\n",
              "    <tr>\n",
              "      <th>4</th>\n",
              "      <td>5</td>\n",
              "      <td>Father of the Bride Part II (1995)</td>\n",
              "      <td>Comedy</td>\n",
              "    </tr>\n",
              "  </tbody>\n",
              "</table>\n",
              "</div>"
            ],
            "text/plain": [
              "   filmeId  ...                                      generos\n",
              "0        1  ...  Adventure|Animation|Children|Comedy|Fantasy\n",
              "1        2  ...                   Adventure|Children|Fantasy\n",
              "2        3  ...                               Comedy|Romance\n",
              "3        4  ...                         Comedy|Drama|Romance\n",
              "4        5  ...                                       Comedy\n",
              "\n",
              "[5 rows x 3 columns]"
            ]
          },
          "metadata": {
            "tags": []
          },
          "execution_count": 31
        }
      ]
    },
    {
      "cell_type": "markdown",
      "metadata": {
        "id": "5z7PLpOiQxjK",
        "colab_type": "text"
      },
      "source": [
        "Temos os títulos e uma coluna com os respectivos gêneros, todos em uma única coluna, cada *label* é separada com um **|** (Adventure|Children|Fantasy) sendo do tipo *string*. \n",
        "\n",
        "Para solucionar nosso problema precisamos separar cada um dos gêneros para então realizar a contagem. Existe várias formas de resolver este problema, por exemplo, desde métodos inputos das *strings* até as **regex**, mas como estamos usando o pandas já temos algo para facilitar nosso processamento dos dados. \n",
        "\n",
        "Vamos aplicar o método e logo em seguida explicar a saída gerada."
      ]
    },
    {
      "cell_type": "code",
      "metadata": {
        "id": "8KezXNtgTBZr",
        "colab_type": "code",
        "outputId": "17c37484-1d23-49bd-c6c9-aca55516e847",
        "colab": {
          "base_uri": "https://localhost:8080/",
          "height": 473
        }
      },
      "source": [
        "filmes[\"generos\"].str.get_dummies('|')"
      ],
      "execution_count": 0,
      "outputs": [
        {
          "output_type": "execute_result",
          "data": {
            "text/html": [
              "<div>\n",
              "<style scoped>\n",
              "    .dataframe tbody tr th:only-of-type {\n",
              "        vertical-align: middle;\n",
              "    }\n",
              "\n",
              "    .dataframe tbody tr th {\n",
              "        vertical-align: top;\n",
              "    }\n",
              "\n",
              "    .dataframe thead th {\n",
              "        text-align: right;\n",
              "    }\n",
              "</style>\n",
              "<table border=\"1\" class=\"dataframe\">\n",
              "  <thead>\n",
              "    <tr style=\"text-align: right;\">\n",
              "      <th></th>\n",
              "      <th>(no genres listed)</th>\n",
              "      <th>Action</th>\n",
              "      <th>Adventure</th>\n",
              "      <th>Animation</th>\n",
              "      <th>Children</th>\n",
              "      <th>Comedy</th>\n",
              "      <th>Crime</th>\n",
              "      <th>Documentary</th>\n",
              "      <th>Drama</th>\n",
              "      <th>Fantasy</th>\n",
              "      <th>Film-Noir</th>\n",
              "      <th>Horror</th>\n",
              "      <th>IMAX</th>\n",
              "      <th>Musical</th>\n",
              "      <th>Mystery</th>\n",
              "      <th>Romance</th>\n",
              "      <th>Sci-Fi</th>\n",
              "      <th>Thriller</th>\n",
              "      <th>War</th>\n",
              "      <th>Western</th>\n",
              "    </tr>\n",
              "  </thead>\n",
              "  <tbody>\n",
              "    <tr>\n",
              "      <th>0</th>\n",
              "      <td>0</td>\n",
              "      <td>0</td>\n",
              "      <td>1</td>\n",
              "      <td>1</td>\n",
              "      <td>1</td>\n",
              "      <td>1</td>\n",
              "      <td>0</td>\n",
              "      <td>0</td>\n",
              "      <td>0</td>\n",
              "      <td>1</td>\n",
              "      <td>0</td>\n",
              "      <td>0</td>\n",
              "      <td>0</td>\n",
              "      <td>0</td>\n",
              "      <td>0</td>\n",
              "      <td>0</td>\n",
              "      <td>0</td>\n",
              "      <td>0</td>\n",
              "      <td>0</td>\n",
              "      <td>0</td>\n",
              "    </tr>\n",
              "    <tr>\n",
              "      <th>1</th>\n",
              "      <td>0</td>\n",
              "      <td>0</td>\n",
              "      <td>1</td>\n",
              "      <td>0</td>\n",
              "      <td>1</td>\n",
              "      <td>0</td>\n",
              "      <td>0</td>\n",
              "      <td>0</td>\n",
              "      <td>0</td>\n",
              "      <td>1</td>\n",
              "      <td>0</td>\n",
              "      <td>0</td>\n",
              "      <td>0</td>\n",
              "      <td>0</td>\n",
              "      <td>0</td>\n",
              "      <td>0</td>\n",
              "      <td>0</td>\n",
              "      <td>0</td>\n",
              "      <td>0</td>\n",
              "      <td>0</td>\n",
              "    </tr>\n",
              "    <tr>\n",
              "      <th>2</th>\n",
              "      <td>0</td>\n",
              "      <td>0</td>\n",
              "      <td>0</td>\n",
              "      <td>0</td>\n",
              "      <td>0</td>\n",
              "      <td>1</td>\n",
              "      <td>0</td>\n",
              "      <td>0</td>\n",
              "      <td>0</td>\n",
              "      <td>0</td>\n",
              "      <td>0</td>\n",
              "      <td>0</td>\n",
              "      <td>0</td>\n",
              "      <td>0</td>\n",
              "      <td>0</td>\n",
              "      <td>1</td>\n",
              "      <td>0</td>\n",
              "      <td>0</td>\n",
              "      <td>0</td>\n",
              "      <td>0</td>\n",
              "    </tr>\n",
              "    <tr>\n",
              "      <th>3</th>\n",
              "      <td>0</td>\n",
              "      <td>0</td>\n",
              "      <td>0</td>\n",
              "      <td>0</td>\n",
              "      <td>0</td>\n",
              "      <td>1</td>\n",
              "      <td>0</td>\n",
              "      <td>0</td>\n",
              "      <td>1</td>\n",
              "      <td>0</td>\n",
              "      <td>0</td>\n",
              "      <td>0</td>\n",
              "      <td>0</td>\n",
              "      <td>0</td>\n",
              "      <td>0</td>\n",
              "      <td>1</td>\n",
              "      <td>0</td>\n",
              "      <td>0</td>\n",
              "      <td>0</td>\n",
              "      <td>0</td>\n",
              "    </tr>\n",
              "    <tr>\n",
              "      <th>4</th>\n",
              "      <td>0</td>\n",
              "      <td>0</td>\n",
              "      <td>0</td>\n",
              "      <td>0</td>\n",
              "      <td>0</td>\n",
              "      <td>1</td>\n",
              "      <td>0</td>\n",
              "      <td>0</td>\n",
              "      <td>0</td>\n",
              "      <td>0</td>\n",
              "      <td>0</td>\n",
              "      <td>0</td>\n",
              "      <td>0</td>\n",
              "      <td>0</td>\n",
              "      <td>0</td>\n",
              "      <td>0</td>\n",
              "      <td>0</td>\n",
              "      <td>0</td>\n",
              "      <td>0</td>\n",
              "      <td>0</td>\n",
              "    </tr>\n",
              "    <tr>\n",
              "      <th>...</th>\n",
              "      <td>...</td>\n",
              "      <td>...</td>\n",
              "      <td>...</td>\n",
              "      <td>...</td>\n",
              "      <td>...</td>\n",
              "      <td>...</td>\n",
              "      <td>...</td>\n",
              "      <td>...</td>\n",
              "      <td>...</td>\n",
              "      <td>...</td>\n",
              "      <td>...</td>\n",
              "      <td>...</td>\n",
              "      <td>...</td>\n",
              "      <td>...</td>\n",
              "      <td>...</td>\n",
              "      <td>...</td>\n",
              "      <td>...</td>\n",
              "      <td>...</td>\n",
              "      <td>...</td>\n",
              "      <td>...</td>\n",
              "    </tr>\n",
              "    <tr>\n",
              "      <th>9737</th>\n",
              "      <td>0</td>\n",
              "      <td>1</td>\n",
              "      <td>0</td>\n",
              "      <td>1</td>\n",
              "      <td>0</td>\n",
              "      <td>1</td>\n",
              "      <td>0</td>\n",
              "      <td>0</td>\n",
              "      <td>0</td>\n",
              "      <td>1</td>\n",
              "      <td>0</td>\n",
              "      <td>0</td>\n",
              "      <td>0</td>\n",
              "      <td>0</td>\n",
              "      <td>0</td>\n",
              "      <td>0</td>\n",
              "      <td>0</td>\n",
              "      <td>0</td>\n",
              "      <td>0</td>\n",
              "      <td>0</td>\n",
              "    </tr>\n",
              "    <tr>\n",
              "      <th>9738</th>\n",
              "      <td>0</td>\n",
              "      <td>0</td>\n",
              "      <td>0</td>\n",
              "      <td>1</td>\n",
              "      <td>0</td>\n",
              "      <td>1</td>\n",
              "      <td>0</td>\n",
              "      <td>0</td>\n",
              "      <td>0</td>\n",
              "      <td>1</td>\n",
              "      <td>0</td>\n",
              "      <td>0</td>\n",
              "      <td>0</td>\n",
              "      <td>0</td>\n",
              "      <td>0</td>\n",
              "      <td>0</td>\n",
              "      <td>0</td>\n",
              "      <td>0</td>\n",
              "      <td>0</td>\n",
              "      <td>0</td>\n",
              "    </tr>\n",
              "    <tr>\n",
              "      <th>9739</th>\n",
              "      <td>0</td>\n",
              "      <td>0</td>\n",
              "      <td>0</td>\n",
              "      <td>0</td>\n",
              "      <td>0</td>\n",
              "      <td>0</td>\n",
              "      <td>0</td>\n",
              "      <td>0</td>\n",
              "      <td>1</td>\n",
              "      <td>0</td>\n",
              "      <td>0</td>\n",
              "      <td>0</td>\n",
              "      <td>0</td>\n",
              "      <td>0</td>\n",
              "      <td>0</td>\n",
              "      <td>0</td>\n",
              "      <td>0</td>\n",
              "      <td>0</td>\n",
              "      <td>0</td>\n",
              "      <td>0</td>\n",
              "    </tr>\n",
              "    <tr>\n",
              "      <th>9740</th>\n",
              "      <td>0</td>\n",
              "      <td>1</td>\n",
              "      <td>0</td>\n",
              "      <td>1</td>\n",
              "      <td>0</td>\n",
              "      <td>0</td>\n",
              "      <td>0</td>\n",
              "      <td>0</td>\n",
              "      <td>0</td>\n",
              "      <td>0</td>\n",
              "      <td>0</td>\n",
              "      <td>0</td>\n",
              "      <td>0</td>\n",
              "      <td>0</td>\n",
              "      <td>0</td>\n",
              "      <td>0</td>\n",
              "      <td>0</td>\n",
              "      <td>0</td>\n",
              "      <td>0</td>\n",
              "      <td>0</td>\n",
              "    </tr>\n",
              "    <tr>\n",
              "      <th>9741</th>\n",
              "      <td>0</td>\n",
              "      <td>0</td>\n",
              "      <td>0</td>\n",
              "      <td>0</td>\n",
              "      <td>0</td>\n",
              "      <td>1</td>\n",
              "      <td>0</td>\n",
              "      <td>0</td>\n",
              "      <td>0</td>\n",
              "      <td>0</td>\n",
              "      <td>0</td>\n",
              "      <td>0</td>\n",
              "      <td>0</td>\n",
              "      <td>0</td>\n",
              "      <td>0</td>\n",
              "      <td>0</td>\n",
              "      <td>0</td>\n",
              "      <td>0</td>\n",
              "      <td>0</td>\n",
              "      <td>0</td>\n",
              "    </tr>\n",
              "  </tbody>\n",
              "</table>\n",
              "<p>9742 rows × 20 columns</p>\n",
              "</div>"
            ],
            "text/plain": [
              "      (no genres listed)  Action  Adventure  ...  Thriller  War  Western\n",
              "0                      0       0          1  ...         0    0        0\n",
              "1                      0       0          1  ...         0    0        0\n",
              "2                      0       0          0  ...         0    0        0\n",
              "3                      0       0          0  ...         0    0        0\n",
              "4                      0       0          0  ...         0    0        0\n",
              "...                  ...     ...        ...  ...       ...  ...      ...\n",
              "9737                   0       1          0  ...         0    0        0\n",
              "9738                   0       0          0  ...         0    0        0\n",
              "9739                   0       0          0  ...         0    0        0\n",
              "9740                   0       1          0  ...         0    0        0\n",
              "9741                   0       0          0  ...         0    0        0\n",
              "\n",
              "[9742 rows x 20 columns]"
            ]
          },
          "metadata": {
            "tags": []
          },
          "execution_count": 32
        }
      ]
    },
    {
      "cell_type": "markdown",
      "metadata": {
        "id": "0Vs4BNTLTnnT",
        "colab_type": "text"
      },
      "source": [
        "Nossa, uma linha de código gerou essa tabelona cheia de linhas, colunas e números.\n",
        "\n",
        "\n",
        "Como você percebeu a saída é um [DataFrame](https://pandas.pydata.org/pandas-docs/stable/reference/api/pandas.DataFrame.html), cada linha corresponde a respectiva linha da coluna gênero, cada coluna corresponde a um gênero (repare que cada gênero **único** virou uma coluna no DF). O que você deve estar se perguntando é como os valores **0/1** são preenchidos?.\n",
        "\n",
        "Para explicar, vamos pegar os gêneros do filme **Jumanji**, **Adventure|Children|Fantasy**, na coluna dos repectivos gêneros (dataframe gerado por ```filmes[\"generos\"].str.get_dummies('|')```) o valor será **1**, para todos os outros gêneros, que não são gêneros do filme Jumanji, vale **0**. Em suma, se o nome da coluna pertence a algum gênero do respectivo filme, o valor será **1** caso contrário 0 (Se ainda não ficou claro, pegue alguns filmes e confira os resultas na tabela anterior).\n",
        "\n",
        "\n",
        "Até aqui resolvemos uma parte do problema, agora precisamo somar quantos **1** cada coluna tem.\n",
        "\n"
      ]
    },
    {
      "cell_type": "code",
      "metadata": {
        "id": "HQ4QBo2HTmQi",
        "colab_type": "code",
        "outputId": "ac16a482-3a51-44e4-f648-3147bd469269",
        "colab": {
          "base_uri": "https://localhost:8080/",
          "height": 374
        }
      },
      "source": [
        "filmes[\"generos\"].str.get_dummies('|').sum()"
      ],
      "execution_count": 0,
      "outputs": [
        {
          "output_type": "execute_result",
          "data": {
            "text/plain": [
              "(no genres listed)      34\n",
              "Action                1828\n",
              "Adventure             1263\n",
              "Animation              611\n",
              "Children               664\n",
              "Comedy                3756\n",
              "Crime                 1199\n",
              "Documentary            440\n",
              "Drama                 4361\n",
              "Fantasy                779\n",
              "Film-Noir               87\n",
              "Horror                 978\n",
              "IMAX                   158\n",
              "Musical                334\n",
              "Mystery                573\n",
              "Romance               1596\n",
              "Sci-Fi                 980\n",
              "Thriller              1894\n",
              "War                    382\n",
              "Western                167\n",
              "dtype: int64"
            ]
          },
          "metadata": {
            "tags": []
          },
          "execution_count": 33
        }
      ]
    },
    {
      "cell_type": "markdown",
      "metadata": {
        "id": "MhafVXhPhPwU",
        "colab_type": "text"
      },
      "source": [
        "Ótimo, resolvemos o desafio e agora temos quantas vezes cada gênero aparece. Assim, fica fácil de responder: Qual o gênero com mais filmes produzidos? Qual o menos? Qual o segundo? (Lembrando que o dado está restrito as informações do Movie Lens.)\n",
        "\n",
        "Se você tentou responder, deve ter notado que não foi tão fácil assim, as informações não estão ordenadas e toda hora você precisa percorrer a tabela para fazer comparações. Nós podemos melhor isso ordenando as informações."
      ]
    },
    {
      "cell_type": "code",
      "metadata": {
        "id": "i0rfKG_chPAO",
        "colab_type": "code",
        "outputId": "febfc7f4-66f0-4a6e-91e3-1c63a13068ba",
        "colab": {
          "base_uri": "https://localhost:8080/",
          "height": 374
        }
      },
      "source": [
        "filmes[\"generos\"].str.get_dummies('|').sum().sort_values(ascending=False)"
      ],
      "execution_count": 0,
      "outputs": [
        {
          "output_type": "execute_result",
          "data": {
            "text/plain": [
              "Drama                 4361\n",
              "Comedy                3756\n",
              "Thriller              1894\n",
              "Action                1828\n",
              "Romance               1596\n",
              "Adventure             1263\n",
              "Crime                 1199\n",
              "Sci-Fi                 980\n",
              "Horror                 978\n",
              "Fantasy                779\n",
              "Children               664\n",
              "Animation              611\n",
              "Mystery                573\n",
              "Documentary            440\n",
              "War                    382\n",
              "Musical                334\n",
              "Western                167\n",
              "IMAX                   158\n",
              "Film-Noir               87\n",
              "(no genres listed)      34\n",
              "dtype: int64"
            ]
          },
          "metadata": {
            "tags": []
          },
          "execution_count": 34
        }
      ]
    },
    {
      "cell_type": "markdown",
      "metadata": {
        "id": "_6LpA66ueW0P",
        "colab_type": "text"
      },
      "source": [
        "Maravilha, agora tudo ficou mais fácil! \n",
        "\n",
        "Conseguimos responder as perguntas anterior sem grandes dificuldades. Mas ainda podemos melhor mais a forma de expor nossa informação, não acha? \n",
        "\n",
        "Que tal uma imagem para visualizar? (Desafio 07 da aula 01)"
      ]
    },
    {
      "cell_type": "code",
      "metadata": {
        "id": "WSK9en3ngOD0",
        "colab_type": "code",
        "outputId": "f2b327f8-b200-4b5a-cc7f-fa6f60e0f8d6",
        "colab": {
          "base_uri": "https://localhost:8080/",
          "height": 282
        }
      },
      "source": [
        "filmes[\"generos\"].str.get_dummies('|').sum().sort_values(ascending=False).plot()"
      ],
      "execution_count": 0,
      "outputs": [
        {
          "output_type": "execute_result",
          "data": {
            "text/plain": [
              "<matplotlib.axes._subplots.AxesSubplot at 0x7f98bd996908>"
            ]
          },
          "metadata": {
            "tags": []
          },
          "execution_count": 35
        },
        {
          "output_type": "display_data",
          "data": {
            "image/png": "[encoded data removed]",
            "text/plain": [
              "<Figure size 432x288 with 1 Axes>"
            ]
          },
          "metadata": {
            "tags": [],
            "needs_background": "light"
          }
        }
      ]
    },
    {
      "cell_type": "markdown",
      "metadata": {
        "id": "pXViUEffgV5E",
        "colab_type": "text"
      },
      "source": [
        "Iniciamos com o plot padrão do pandas, e como percebemos não adianta só plotar uma imagem, é preciso que faça sentido para a informação que queremos analisar, um gráfico de linhas não está fazendo muito sentido!\n",
        "\n",
        "Temos um gráfico muito conhecido que sempre encontramos por aí, o famoso gráfico de pizza ou torta. \n",
        "\n",
        "Já que ele é tão famoso talvez seja uma boa ideia tentar!"
      ]
    },
    {
      "cell_type": "code",
      "metadata": {
        "id": "wS6m52kJgTzj",
        "colab_type": "code",
        "outputId": "36b089cf-e149-4e29-d746-b4bb851879e3",
        "colab": {
          "base_uri": "https://localhost:8080/",
          "height": 482
        }
      },
      "source": [
        "filmes[\"generos\"].str.get_dummies('|').sum().sort_values(ascending=False).plot(\n",
        "    kind='pie', \n",
        "    title='Categorias de filmes e suas presenças relativas',\n",
        "    figsize=(8,8))\n",
        "plt.show()"
      ],
      "execution_count": 0,
      "outputs": [
        {
          "output_type": "display_data",
          "data": {
            "image/png": "[encoded data removed]",
            "text/plain": [
              "<Figure size 576x576 with 1 Axes>"
            ]
          },
          "metadata": {
            "tags": []
          }
        }
      ]
    },
    {
      "cell_type": "markdown",
      "metadata": {
        "id": "RJIsTxcDiy8n",
        "colab_type": "text"
      },
      "source": [
        "E aí o que você achou? \n",
        "\n",
        "Algo que fica evidente neste gráfico é que **Drama, Comedy, Thriller, e Action** tem proporções \"grandes\", mas qualquer outra análise fica complicada. \n",
        "\n",
        "Primeiro, as cores começa a se repetir e isso não é o ideial.\n",
        "\n",
        "Segundo, repare nos gêneros com menos filmes,consegue tirar alguma informação de lá? é muito difícil de analisar.\n",
        "\n",
        "Quarto, vamos tentar comparar **thriller e Action**, qual está presente em mais filmes? Difícil responder, quando estamos trabalhando com gráficos tipo esse fazemos comparações entre área, não somos bons nisso.\n",
        "\n",
        "\n",
        "Por fim, o importante de uma visualização é que ela seja **\"transparente\"** ao intuíto de nossa análise. Ou seja, estamos querendo analisar as informações de quantidade, comparando as labels de forma geral e evidênciando de maneira clara as diferenças entre elas (proporções).\n",
        "\n",
        "Portanto, o gráfico de pizza não torna as comparações claras, sendo assim uma má ideia. \n",
        "\n",
        "Vamos construir juntos uma solução mais adequada!\n"
      ]
    },
    {
      "cell_type": "code",
      "metadata": {
        "id": "AnwRxXYFq1Uk",
        "colab_type": "code",
        "outputId": "04f2f1c9-dc66-404d-cd8f-c7ee5a5dbaf7",
        "colab": {
          "base_uri": "https://localhost:8080/",
          "height": 577
        }
      },
      "source": [
        "filmes[\"generos\"].str.get_dummies('|').sum().sort_values(ascending=False).plot(\n",
        "    kind='bar', \n",
        "    title='Filmes por categoria',\n",
        "    figsize=(8,8))\n",
        "plt.show()"
      ],
      "execution_count": 0,
      "outputs": [
        {
          "output_type": "display_data",
          "data": {
            "image/png": "[encoded data removed]",
            "text/plain": [
              "<Figure size 576x576 with 1 Axes>"
            ]
          },
          "metadata": {
            "tags": [],
            "needs_background": "light"
          }
        }
      ]
    },
    {
      "cell_type": "markdown",
      "metadata": {
        "id": "pvxXEAroq1w6",
        "colab_type": "text"
      },
      "source": [
        "Mudamos da pizza para a barra, alterando apenas o parâmetro kind do método.\n",
        "\n",
        " Veja como o gráfico de barra torna a análise mais simples, logo de cara a diferença entre **Drama e Comedy**, comparado aos demais gêneros fica evidênte. No gráfico de pizza era super difícil comparar **Thriller e Action**, agora a comparação ficou fácil e conseguimos perceber o quão perto estão uma da outra.\n",
        "\n",
        "A interpretação dos dados melhorou muito com essa visualização, mas podemos melhorar ainda mais. O que queremos é tornar evidênte os gêneros que tem a maior participação nos filmes em geral, ou seja transparecer através da imagem uma visão geral de proporcionalidade. Para tprnar evidênte essa informação vamos utilizar algo \"semelhante\" a um [mapa de calor](https://en.wikipedia.org/wiki/Heat_map)."
      ]
    },
    {
      "cell_type": "code",
      "metadata": {
        "id": "sN8whM-7q2Ax",
        "colab_type": "code",
        "outputId": "dce87bc3-7f1d-4917-db41-76795db95635",
        "colab": {
          "base_uri": "https://localhost:8080/",
          "height": 529
        }
      },
      "source": [
        "import seaborn as sns\n",
        "sns.set_style(\"whitegrid\")\n",
        "\n",
        "filmes_por_genero = filmes[\"generos\"].str.get_dummies('|').sum().sort_values(ascending=False)\n",
        "plt.figure(figsize=(16,8))\n",
        "sns.barplot(x=filmes_por_genero.index,\n",
        "            y=filmes_por_genero.values,\n",
        "            palette=sns.color_palette(\"BuGn_r\", n_colors=len(filmes_por_genero) + 4))\n",
        "plt.show()"
      ],
      "execution_count": 0,
      "outputs": [
        {
          "output_type": "stream",
          "text": [
            "/usr/local/lib/python3.6/dist-packages/statsmodels/tools/_testing.py:19: FutureWarning: pandas.util.testing is deprecated. Use the functions in the public API at pandas.testing instead.\n",
            "  import pandas.util.testing as tm\n"
          ],
          "name": "stderr"
        },
        {
          "output_type": "display_data",
          "data": {
            "image/png": "[encoded data removed]",
            "text/plain": [
              "<Figure size 1152x576 with 1 Axes>"
            ]
          },
          "metadata": {
            "tags": []
          }
        }
      ]
    },
    {
      "cell_type": "markdown",
      "metadata": {
        "id": "ydALPTERq2M2",
        "colab_type": "text"
      },
      "source": [
        "Já, já explicamos o que foi feito em toda imagem, por agora repare como a imagem passa muito mais informação. Conseguimos comparar de forma fácil entre os gêneros e através do **mapa de calor** (gêneros com maior número tem um verde muito mais forte, gêneros com menor número é praticamente transparente) evidênciamos quais são as labels com maior participação, médias e insignificantes. Toda essa informação em uma única imagem!\n",
        "\n",
        "Bom, agora vamos entender como foi o código.\n",
        "\n",
        "Primeiro, não plotamos mais a imagem com o `.plot()` do pandas, vamos precisar de uma biblioteca de visualização mais poderosa para configurar nossa imagem, utilizamos o [seaborn](https://seaborn.pydata.org/).\n",
        "\n",
        "Segundo, chamamos o barplot do **seaborn**, adicionando uma **paleta de cores** com efeito de mapa de calor (parâmetro pallette), no parâmetro `n_color` de `sns.color_palette()` adicionamos **+4** para que a última barra não seja totalmente transparente.\n",
        "\n",
        "Terceiro, também adicionamos o **sns.set_style(\"whitegrid\")** para que todos os gráficos tenham a **linha de grade do eixo X** evidênte, facilitando a comparação entre as barras."
      ]
    },
    {
      "cell_type": "code",
      "metadata": {
        "id": "fCBxUBwkq2dS",
        "colab_type": "code",
        "outputId": "bb499d12-7133-4a73-a630-8be85e91b42a",
        "colab": {
          "base_uri": "https://localhost:8080/",
          "height": 483
        }
      },
      "source": [
        "import seaborn as sns\n",
        "\n",
        "filmes_por_genero = filmes[\"generos\"].str.get_dummies('|').sum().sort_values(ascending=False)\n",
        "plt.figure(figsize=(8,8))\n",
        "sns.barplot(x=filmes_por_genero.index,\n",
        "            y=filmes_por_genero.values,\n",
        "            palette=sns.color_palette(\"BuGn_r\", n_colors=len(filmes_por_genero) + 4))\n",
        "plt.show()"
      ],
      "execution_count": 0,
      "outputs": [
        {
          "output_type": "display_data",
          "data": {
            "image/png": "[encoded data removed]",
            "text/plain": [
              "<Figure size 576x576 with 1 Axes>"
            ]
          },
          "metadata": {
            "tags": []
          }
        }
      ]
    },
    {
      "cell_type": "markdown",
      "metadata": {
        "id": "loU0EYIn0HW7",
        "colab_type": "text"
      },
      "source": [
        "Por fim, mudamos o tamanho da imagem com o **figsize** do método`plt.figure()`. Assim, temos um gráfico com muitas informações e agradável de analisar.\n"
      ]
    },
    {
      "cell_type": "code",
      "metadata": {
        "id": "sHLQQRD50F14",
        "colab_type": "code",
        "outputId": "b4f6474a-76ff-43af-8574-5480afa6a1ea",
        "colab": {
          "base_uri": "https://localhost:8080/",
          "height": 475
        }
      },
      "source": [
        "import seaborn as sns\n",
        "sns.set_style(\"whitegrid\")\n",
        "\n",
        "filmes_por_genero = filmes[\"generos\"].str.get_dummies('|').sum().sort_values(ascending=False)\n",
        "plt.figure(figsize=(16,8))\n",
        "sns.barplot(x=filmes_por_genero.index,\n",
        "            y=filmes_por_genero.values,\n",
        "            palette=sns.color_palette(\"BuGn_r\", n_colors=len(filmes_por_genero) + 4))\n",
        "plt.show()"
      ],
      "execution_count": 0,
      "outputs": [
        {
          "output_type": "display_data",
          "data": {
            "image/png": "[encoded data removed]",
            "text/plain": [
              "<Figure size 1152x576 with 1 Axes>"
            ]
          },
          "metadata": {
            "tags": []
          }
        }
      ]
    },
    {
      "cell_type": "markdown",
      "metadata": {
        "id": "hWbZmSux0_gx",
        "colab_type": "text"
      },
      "source": [
        "Conseguimos analisar e tirar diversas conclusões trabalhando com a visualização dos gêneros. Será que conseguimos utilizar visualizações para entender melhor as notas de um filme?\n",
        "\n",
        "Vamos relembrar alguns pontos que já discutimos e nos aprofundar nas análises de notas para tirar conclusões mais sofisticadas.\n",
        "\n",
        "Na **aula 01** calculamos as notas médias por filmes, vamos dar uma olhada no resultado."
      ]
    },
    {
      "cell_type": "code",
      "metadata": {
        "id": "WCpfME9dDUnC",
        "colab_type": "code",
        "outputId": "2acef3e7-1089-4d7a-b5e0-f079876b19aa",
        "colab": {
          "base_uri": "https://localhost:8080/",
          "height": 204
        }
      },
      "source": [
        "filmes_com_media.head()"
      ],
      "execution_count": 0,
      "outputs": [
        {
          "output_type": "execute_result",
          "data": {
            "text/html": [
              "<div>\n",
              "<style scoped>\n",
              "    .dataframe tbody tr th:only-of-type {\n",
              "        vertical-align: middle;\n",
              "    }\n",
              "\n",
              "    .dataframe tbody tr th {\n",
              "        vertical-align: top;\n",
              "    }\n",
              "\n",
              "    .dataframe thead th {\n",
              "        text-align: right;\n",
              "    }\n",
              "</style>\n",
              "<table border=\"1\" class=\"dataframe\">\n",
              "  <thead>\n",
              "    <tr style=\"text-align: right;\">\n",
              "      <th></th>\n",
              "      <th>filmeId</th>\n",
              "      <th>titulo</th>\n",
              "      <th>generos</th>\n",
              "      <th>nota</th>\n",
              "    </tr>\n",
              "  </thead>\n",
              "  <tbody>\n",
              "    <tr>\n",
              "      <th>0</th>\n",
              "      <td>1</td>\n",
              "      <td>Toy Story (1995)</td>\n",
              "      <td>Adventure|Animation|Children|Comedy|Fantasy</td>\n",
              "      <td>3.920930</td>\n",
              "    </tr>\n",
              "    <tr>\n",
              "      <th>1</th>\n",
              "      <td>2</td>\n",
              "      <td>Jumanji (1995)</td>\n",
              "      <td>Adventure|Children|Fantasy</td>\n",
              "      <td>3.431818</td>\n",
              "    </tr>\n",
              "    <tr>\n",
              "      <th>2</th>\n",
              "      <td>3</td>\n",
              "      <td>Grumpier Old Men (1995)</td>\n",
              "      <td>Comedy|Romance</td>\n",
              "      <td>3.259615</td>\n",
              "    </tr>\n",
              "    <tr>\n",
              "      <th>3</th>\n",
              "      <td>4</td>\n",
              "      <td>Waiting to Exhale (1995)</td>\n",
              "      <td>Comedy|Drama|Romance</td>\n",
              "      <td>2.357143</td>\n",
              "    </tr>\n",
              "    <tr>\n",
              "      <th>4</th>\n",
              "      <td>5</td>\n",
              "      <td>Father of the Bride Part II (1995)</td>\n",
              "      <td>Comedy</td>\n",
              "      <td>3.071429</td>\n",
              "    </tr>\n",
              "  </tbody>\n",
              "</table>\n",
              "</div>"
            ],
            "text/plain": [
              "   filmeId  ...      nota\n",
              "0        1  ...  3.920930\n",
              "1        2  ...  3.431818\n",
              "2        3  ...  3.259615\n",
              "3        4  ...  2.357143\n",
              "4        5  ...  3.071429\n",
              "\n",
              "[5 rows x 4 columns]"
            ]
          },
          "metadata": {
            "tags": []
          },
          "execution_count": 42
        }
      ]
    },
    {
      "cell_type": "markdown",
      "metadata": {
        "id": "9nb5mvorDe6d",
        "colab_type": "text"
      },
      "source": [
        "Como vimos, olhar apenas as médias pode ser um problema e para interpretar um pouco melhor os dados usamos o histograma das ntoas para comparar alguns filmes. Por exemplo, **Toy Story e Jumanji**"
      ]
    },
    {
      "cell_type": "code",
      "metadata": {
        "id": "ChEwRS45EEfM",
        "colab_type": "code",
        "outputId": "47fbf78c-71ae-4b67-cc8e-8e46b6a6da60",
        "colab": {
          "base_uri": "https://localhost:8080/",
          "height": 299
        }
      },
      "source": [
        "notas_do_filme_1 = avaliacoes.query(\"filmeId==1\")[\"nota\"]\n",
        "print(notas_do_filme_1.mean())\n",
        "notas_do_filme_1.plot(kind='hist')"
      ],
      "execution_count": 0,
      "outputs": [
        {
          "output_type": "stream",
          "text": [
            "3.9209302325581397\n"
          ],
          "name": "stdout"
        },
        {
          "output_type": "execute_result",
          "data": {
            "text/plain": [
              "<matplotlib.axes._subplots.AxesSubplot at 0x7f98b2d97be0>"
            ]
          },
          "metadata": {
            "tags": []
          },
          "execution_count": 43
        },
        {
          "output_type": "display_data",
          "data": {
            "image/png": "[encoded data removed]",
            "text/plain": [
              "<Figure size 432x288 with 1 Axes>"
            ]
          },
          "metadata": {
            "tags": []
          }
        }
      ]
    },
    {
      "cell_type": "code",
      "metadata": {
        "id": "9cRMdMUYEXmd",
        "colab_type": "code",
        "outputId": "df6cc9b2-b7c9-4c31-a31e-fa4daf5704be",
        "colab": {
          "base_uri": "https://localhost:8080/",
          "height": 299
        }
      },
      "source": [
        "notas_do_filme_1 = avaliacoes.query(\"filmeId==2\")[\"nota\"]\n",
        "print(notas_do_filme_1.mean())\n",
        "notas_do_filme_1.plot(kind='hist')"
      ],
      "execution_count": 0,
      "outputs": [
        {
          "output_type": "stream",
          "text": [
            "3.4318181818181817\n"
          ],
          "name": "stdout"
        },
        {
          "output_type": "execute_result",
          "data": {
            "text/plain": [
              "<matplotlib.axes._subplots.AxesSubplot at 0x7f98b30079b0>"
            ]
          },
          "metadata": {
            "tags": []
          },
          "execution_count": 44
        },
        {
          "output_type": "display_data",
          "data": {
            "image/png": "[encoded data removed]",
            "text/plain": [
              "<Figure size 432x288 with 1 Axes>"
            ]
          },
          "metadata": {
            "tags": []
          }
        }
      ]
    },
    {
      "cell_type": "markdown",
      "metadata": {
        "id": "wH4BW07r0GZF",
        "colab_type": "text"
      },
      "source": [
        "ToyStory e Jumanji tem médias relativamente próximas mas com comportamento de notas diferentes, então, para nosso exemplo, as médias ajudam mas esconde informações importântes sobre os dados. \n",
        "\n",
        "Lembra o exemplo que o Guilherme Silveira deu em aula comparando os sálarios de uma cidade? Olhando apenas para as médias dos salários não conseguimos evidênciar a desigualdade que havia entre as cidades. \n",
        "\n",
        "```python\n",
        "#Cidada A\n",
        "populacao = 1000\n",
        "salario = 1100\n",
        "\n",
        "media = 1100\n",
        "\n",
        "#Cidade B\n",
        "populacao = 1000\n",
        "salario1 = 1000000\n",
        "salario999 = 100\n",
        "\n",
        "media = (salario1 * 1 + salario999 * 999) / 1000\n",
        "media = 1099.00\n",
        "```\n",
        "\n",
        "P.S: Se tiver dúvidas reveja essa parte da aula e tente enteder o problema da média.\n",
        "\n",
        "\n",
        "Outras métrica que pode nos ajudar a interpretar melhor os dados são os quatis, principalmente a [mediana](https://pt.wikipedia.org/wiki/Mediana_(estat%C3%ADstica))\n",
        "\n",
        "Vamos buscar dois filmes com médias muito mais próximas que Toy Story e Jumanji, para analisar outras métricas além das médias."
      ]
    },
    {
      "cell_type": "code",
      "metadata": {
        "id": "fFPWMZTcH5Em",
        "colab_type": "code",
        "outputId": "9a5f4fec-a604-4a9f-aceb-e5dd5df1fd0c",
        "colab": {
          "base_uri": "https://localhost:8080/",
          "height": 1000
        }
      },
      "source": [
        "filmes_com_media.sort_values(\"nota\", ascending=False)[2450:2500]"
      ],
      "execution_count": 0,
      "outputs": [
        {
          "output_type": "execute_result",
          "data": {
            "text/html": [
              "<div>\n",
              "<style scoped>\n",
              "    .dataframe tbody tr th:only-of-type {\n",
              "        vertical-align: middle;\n",
              "    }\n",
              "\n",
              "    .dataframe tbody tr th {\n",
              "        vertical-align: top;\n",
              "    }\n",
              "\n",
              "    .dataframe thead th {\n",
              "        text-align: right;\n",
              "    }\n",
              "</style>\n",
              "<table border=\"1\" class=\"dataframe\">\n",
              "  <thead>\n",
              "    <tr style=\"text-align: right;\">\n",
              "      <th></th>\n",
              "      <th>filmeId</th>\n",
              "      <th>titulo</th>\n",
              "      <th>generos</th>\n",
              "      <th>nota</th>\n",
              "    </tr>\n",
              "  </thead>\n",
              "  <tbody>\n",
              "    <tr>\n",
              "      <th>745</th>\n",
              "      <td>973</td>\n",
              "      <td>Meet John Doe (1941)</td>\n",
              "      <td>Comedy|Drama</td>\n",
              "      <td>3.900000</td>\n",
              "    </tr>\n",
              "    <tr>\n",
              "      <th>6632</th>\n",
              "      <td>56251</td>\n",
              "      <td>Futurama: Bender's Big Score (2007)</td>\n",
              "      <td>Animation|Comedy|Sci-Fi</td>\n",
              "      <td>3.900000</td>\n",
              "    </tr>\n",
              "    <tr>\n",
              "      <th>101</th>\n",
              "      <td>116</td>\n",
              "      <td>Anne Frank Remembered (1995)</td>\n",
              "      <td>Documentary</td>\n",
              "      <td>3.900000</td>\n",
              "    </tr>\n",
              "    <tr>\n",
              "      <th>5719</th>\n",
              "      <td>27846</td>\n",
              "      <td>Corporation, The (2003)</td>\n",
              "      <td>Documentary</td>\n",
              "      <td>3.900000</td>\n",
              "    </tr>\n",
              "    <tr>\n",
              "      <th>802</th>\n",
              "      <td>1050</td>\n",
              "      <td>Looking for Richard (1996)</td>\n",
              "      <td>Documentary|Drama</td>\n",
              "      <td>3.900000</td>\n",
              "    </tr>\n",
              "    <tr>\n",
              "      <th>3983</th>\n",
              "      <td>5617</td>\n",
              "      <td>Secretary (2002)</td>\n",
              "      <td>Comedy|Drama|Romance</td>\n",
              "      <td>3.900000</td>\n",
              "    </tr>\n",
              "    <tr>\n",
              "      <th>1323</th>\n",
              "      <td>1785</td>\n",
              "      <td>King of New York (1990)</td>\n",
              "      <td>Crime|Thriller</td>\n",
              "      <td>3.900000</td>\n",
              "    </tr>\n",
              "    <tr>\n",
              "      <th>7103</th>\n",
              "      <td>70599</td>\n",
              "      <td>Time Traveler's Wife, The (2009)</td>\n",
              "      <td>Drama|Romance|Sci-Fi</td>\n",
              "      <td>3.900000</td>\n",
              "    </tr>\n",
              "    <tr>\n",
              "      <th>5248</th>\n",
              "      <td>8607</td>\n",
              "      <td>Tokyo Godfathers (2003)</td>\n",
              "      <td>Adventure|Animation|Drama</td>\n",
              "      <td>3.900000</td>\n",
              "    </tr>\n",
              "    <tr>\n",
              "      <th>4677</th>\n",
              "      <td>6985</td>\n",
              "      <td>Passion of Joan of Arc, The (Passion de Jeanne...</td>\n",
              "      <td>Drama</td>\n",
              "      <td>3.900000</td>\n",
              "    </tr>\n",
              "    <tr>\n",
              "      <th>86</th>\n",
              "      <td>97</td>\n",
              "      <td>Hate (Haine, La) (1995)</td>\n",
              "      <td>Crime|Drama</td>\n",
              "      <td>3.900000</td>\n",
              "    </tr>\n",
              "    <tr>\n",
              "      <th>4100</th>\n",
              "      <td>5876</td>\n",
              "      <td>Quiet American, The (2002)</td>\n",
              "      <td>Drama|Thriller|War</td>\n",
              "      <td>3.900000</td>\n",
              "    </tr>\n",
              "    <tr>\n",
              "      <th>4298</th>\n",
              "      <td>6283</td>\n",
              "      <td>Cowboy Bebop: The Movie (Cowboy Bebop: Tengoku...</td>\n",
              "      <td>Action|Animation|Sci-Fi|Thriller</td>\n",
              "      <td>3.900000</td>\n",
              "    </tr>\n",
              "    <tr>\n",
              "      <th>8533</th>\n",
              "      <td>114935</td>\n",
              "      <td>Predestination (2014)</td>\n",
              "      <td>Action|Mystery|Sci-Fi|Thriller</td>\n",
              "      <td>3.900000</td>\n",
              "    </tr>\n",
              "    <tr>\n",
              "      <th>7946</th>\n",
              "      <td>95858</td>\n",
              "      <td>For the Birds (2000)</td>\n",
              "      <td>Animation|Children|Comedy</td>\n",
              "      <td>3.900000</td>\n",
              "    </tr>\n",
              "    <tr>\n",
              "      <th>1630</th>\n",
              "      <td>2176</td>\n",
              "      <td>Rope (1948)</td>\n",
              "      <td>Crime|Drama|Thriller</td>\n",
              "      <td>3.900000</td>\n",
              "    </tr>\n",
              "    <tr>\n",
              "      <th>3016</th>\n",
              "      <td>4034</td>\n",
              "      <td>Traffic (2000)</td>\n",
              "      <td>Crime|Drama|Thriller</td>\n",
              "      <td>3.900000</td>\n",
              "    </tr>\n",
              "    <tr>\n",
              "      <th>4702</th>\n",
              "      <td>7018</td>\n",
              "      <td>Presumed Innocent (1990)</td>\n",
              "      <td>Crime|Drama|Thriller</td>\n",
              "      <td>3.900000</td>\n",
              "    </tr>\n",
              "    <tr>\n",
              "      <th>2156</th>\n",
              "      <td>2871</td>\n",
              "      <td>Deliverance (1972)</td>\n",
              "      <td>Adventure|Drama|Thriller</td>\n",
              "      <td>3.900000</td>\n",
              "    </tr>\n",
              "    <tr>\n",
              "      <th>9710</th>\n",
              "      <td>187595</td>\n",
              "      <td>Solo: A Star Wars Story (2018)</td>\n",
              "      <td>Action|Adventure|Children|Sci-Fi</td>\n",
              "      <td>3.900000</td>\n",
              "    </tr>\n",
              "    <tr>\n",
              "      <th>1051</th>\n",
              "      <td>1366</td>\n",
              "      <td>Crucible, The (1996)</td>\n",
              "      <td>Drama</td>\n",
              "      <td>3.900000</td>\n",
              "    </tr>\n",
              "    <tr>\n",
              "      <th>6613</th>\n",
              "      <td>55820</td>\n",
              "      <td>No Country for Old Men (2007)</td>\n",
              "      <td>Crime|Drama</td>\n",
              "      <td>3.898438</td>\n",
              "    </tr>\n",
              "    <tr>\n",
              "      <th>939</th>\n",
              "      <td>1240</td>\n",
              "      <td>Terminator, The (1984)</td>\n",
              "      <td>Action|Sci-Fi|Thriller</td>\n",
              "      <td>3.896947</td>\n",
              "    </tr>\n",
              "    <tr>\n",
              "      <th>267</th>\n",
              "      <td>307</td>\n",
              "      <td>Three Colors: Blue (Trois couleurs: Bleu) (1993)</td>\n",
              "      <td>Drama</td>\n",
              "      <td>3.895833</td>\n",
              "    </tr>\n",
              "    <tr>\n",
              "      <th>599</th>\n",
              "      <td>745</td>\n",
              "      <td>Wallace &amp; Gromit: A Close Shave (1995)</td>\n",
              "      <td>Animation|Children|Comedy</td>\n",
              "      <td>3.895833</td>\n",
              "    </tr>\n",
              "    <tr>\n",
              "      <th>706</th>\n",
              "      <td>924</td>\n",
              "      <td>2001: A Space Odyssey (1968)</td>\n",
              "      <td>Adventure|Drama|Sci-Fi</td>\n",
              "      <td>3.894495</td>\n",
              "    </tr>\n",
              "    <tr>\n",
              "      <th>2078</th>\n",
              "      <td>2762</td>\n",
              "      <td>Sixth Sense, The (1999)</td>\n",
              "      <td>Drama|Horror|Mystery</td>\n",
              "      <td>3.893855</td>\n",
              "    </tr>\n",
              "    <tr>\n",
              "      <th>1608</th>\n",
              "      <td>2150</td>\n",
              "      <td>Gods Must Be Crazy, The (1980)</td>\n",
              "      <td>Adventure|Comedy</td>\n",
              "      <td>3.892857</td>\n",
              "    </tr>\n",
              "    <tr>\n",
              "      <th>5165</th>\n",
              "      <td>8366</td>\n",
              "      <td>Saved! (2004)</td>\n",
              "      <td>Comedy|Drama</td>\n",
              "      <td>3.892857</td>\n",
              "    </tr>\n",
              "    <tr>\n",
              "      <th>1432</th>\n",
              "      <td>1955</td>\n",
              "      <td>Kramer vs. Kramer (1979)</td>\n",
              "      <td>Drama</td>\n",
              "      <td>3.892857</td>\n",
              "    </tr>\n",
              "    <tr>\n",
              "      <th>2191</th>\n",
              "      <td>2912</td>\n",
              "      <td>Limey, The (1999)</td>\n",
              "      <td>Crime|Drama|Thriller</td>\n",
              "      <td>3.892857</td>\n",
              "    </tr>\n",
              "    <tr>\n",
              "      <th>5572</th>\n",
              "      <td>26776</td>\n",
              "      <td>Porco Rosso (Crimson Pig) (Kurenai no buta) (1...</td>\n",
              "      <td>Adventure|Animation|Comedy|Fantasy|Romance</td>\n",
              "      <td>3.892857</td>\n",
              "    </tr>\n",
              "    <tr>\n",
              "      <th>198</th>\n",
              "      <td>232</td>\n",
              "      <td>Eat Drink Man Woman (Yin shi nan nu) (1994)</td>\n",
              "      <td>Comedy|Drama|Romance</td>\n",
              "      <td>3.892857</td>\n",
              "    </tr>\n",
              "    <tr>\n",
              "      <th>9223</th>\n",
              "      <td>152081</td>\n",
              "      <td>Zootopia (2016)</td>\n",
              "      <td>Action|Adventure|Animation|Children|Comedy</td>\n",
              "      <td>3.890625</td>\n",
              "    </tr>\n",
              "    <tr>\n",
              "      <th>5885</th>\n",
              "      <td>33166</td>\n",
              "      <td>Crash (2004)</td>\n",
              "      <td>Crime|Drama</td>\n",
              "      <td>3.890000</td>\n",
              "    </tr>\n",
              "    <tr>\n",
              "      <th>3564</th>\n",
              "      <td>4880</td>\n",
              "      <td>Life as a House (2001)</td>\n",
              "      <td>Drama</td>\n",
              "      <td>3.888889</td>\n",
              "    </tr>\n",
              "    <tr>\n",
              "      <th>4258</th>\n",
              "      <td>6214</td>\n",
              "      <td>Irreversible (Irréversible) (2002)</td>\n",
              "      <td>Crime|Drama|Mystery|Thriller</td>\n",
              "      <td>3.888889</td>\n",
              "    </tr>\n",
              "    <tr>\n",
              "      <th>6884</th>\n",
              "      <td>63072</td>\n",
              "      <td>Road, The (2009)</td>\n",
              "      <td>Adventure|Drama|Thriller</td>\n",
              "      <td>3.888889</td>\n",
              "    </tr>\n",
              "    <tr>\n",
              "      <th>7078</th>\n",
              "      <td>69844</td>\n",
              "      <td>Harry Potter and the Half-Blood Prince (2009)</td>\n",
              "      <td>Adventure|Fantasy|Mystery|Romance|IMAX</td>\n",
              "      <td>3.887931</td>\n",
              "    </tr>\n",
              "    <tr>\n",
              "      <th>785</th>\n",
              "      <td>1028</td>\n",
              "      <td>Mary Poppins (1964)</td>\n",
              "      <td>Children|Comedy|Fantasy|Musical</td>\n",
              "      <td>3.887324</td>\n",
              "    </tr>\n",
              "    <tr>\n",
              "      <th>7413</th>\n",
              "      <td>80463</td>\n",
              "      <td>Social Network, The (2010)</td>\n",
              "      <td>Drama</td>\n",
              "      <td>3.885965</td>\n",
              "    </tr>\n",
              "    <tr>\n",
              "      <th>6151</th>\n",
              "      <td>44191</td>\n",
              "      <td>V for Vendetta (2006)</td>\n",
              "      <td>Action|Sci-Fi|Thriller|IMAX</td>\n",
              "      <td>3.885000</td>\n",
              "    </tr>\n",
              "    <tr>\n",
              "      <th>7688</th>\n",
              "      <td>89492</td>\n",
              "      <td>Moneyball (2011)</td>\n",
              "      <td>Drama</td>\n",
              "      <td>3.884615</td>\n",
              "    </tr>\n",
              "    <tr>\n",
              "      <th>6223</th>\n",
              "      <td>45728</td>\n",
              "      <td>Clerks II (2006)</td>\n",
              "      <td>Comedy</td>\n",
              "      <td>3.884615</td>\n",
              "    </tr>\n",
              "    <tr>\n",
              "      <th>912</th>\n",
              "      <td>1211</td>\n",
              "      <td>Wings of Desire (Himmel über Berlin, Der) (1987)</td>\n",
              "      <td>Drama|Fantasy|Romance</td>\n",
              "      <td>3.884615</td>\n",
              "    </tr>\n",
              "    <tr>\n",
              "      <th>6242</th>\n",
              "      <td>46578</td>\n",
              "      <td>Little Miss Sunshine (2006)</td>\n",
              "      <td>Adventure|Comedy|Drama</td>\n",
              "      <td>3.883117</td>\n",
              "    </tr>\n",
              "    <tr>\n",
              "      <th>1230</th>\n",
              "      <td>1635</td>\n",
              "      <td>Ice Storm, The (1997)</td>\n",
              "      <td>Drama</td>\n",
              "      <td>3.882353</td>\n",
              "    </tr>\n",
              "    <tr>\n",
              "      <th>225</th>\n",
              "      <td>261</td>\n",
              "      <td>Little Women (1994)</td>\n",
              "      <td>Drama</td>\n",
              "      <td>3.880952</td>\n",
              "    </tr>\n",
              "    <tr>\n",
              "      <th>701</th>\n",
              "      <td>919</td>\n",
              "      <td>Wizard of Oz, The (1939)</td>\n",
              "      <td>Adventure|Children|Fantasy|Musical</td>\n",
              "      <td>3.880435</td>\n",
              "    </tr>\n",
              "    <tr>\n",
              "      <th>968</th>\n",
              "      <td>1269</td>\n",
              "      <td>Arsenic and Old Lace (1944)</td>\n",
              "      <td>Comedy|Mystery|Thriller</td>\n",
              "      <td>3.879310</td>\n",
              "    </tr>\n",
              "  </tbody>\n",
              "</table>\n",
              "</div>"
            ],
            "text/plain": [
              "      filmeId  ...      nota\n",
              "745       973  ...  3.900000\n",
              "6632    56251  ...  3.900000\n",
              "101       116  ...  3.900000\n",
              "5719    27846  ...  3.900000\n",
              "802      1050  ...  3.900000\n",
              "3983     5617  ...  3.900000\n",
              "1323     1785  ...  3.900000\n",
              "7103    70599  ...  3.900000\n",
              "5248     8607  ...  3.900000\n",
              "4677     6985  ...  3.900000\n",
              "86         97  ...  3.900000\n",
              "4100     5876  ...  3.900000\n",
              "4298     6283  ...  3.900000\n",
              "8533   114935  ...  3.900000\n",
              "7946    95858  ...  3.900000\n",
              "1630     2176  ...  3.900000\n",
              "3016     4034  ...  3.900000\n",
              "4702     7018  ...  3.900000\n",
              "2156     2871  ...  3.900000\n",
              "9710   187595  ...  3.900000\n",
              "1051     1366  ...  3.900000\n",
              "6613    55820  ...  3.898438\n",
              "939      1240  ...  3.896947\n",
              "267       307  ...  3.895833\n",
              "599       745  ...  3.895833\n",
              "706       924  ...  3.894495\n",
              "2078     2762  ...  3.893855\n",
              "1608     2150  ...  3.892857\n",
              "5165     8366  ...  3.892857\n",
              "1432     1955  ...  3.892857\n",
              "2191     2912  ...  3.892857\n",
              "5572    26776  ...  3.892857\n",
              "198       232  ...  3.892857\n",
              "9223   152081  ...  3.890625\n",
              "5885    33166  ...  3.890000\n",
              "3564     4880  ...  3.888889\n",
              "4258     6214  ...  3.888889\n",
              "6884    63072  ...  3.888889\n",
              "7078    69844  ...  3.887931\n",
              "785      1028  ...  3.887324\n",
              "7413    80463  ...  3.885965\n",
              "6151    44191  ...  3.885000\n",
              "7688    89492  ...  3.884615\n",
              "6223    45728  ...  3.884615\n",
              "912      1211  ...  3.884615\n",
              "6242    46578  ...  3.883117\n",
              "1230     1635  ...  3.882353\n",
              "225       261  ...  3.880952\n",
              "701       919  ...  3.880435\n",
              "968      1269  ...  3.879310\n",
              "\n",
              "[50 rows x 4 columns]"
            ]
          },
          "metadata": {
            "tags": []
          },
          "execution_count": 46
        }
      ]
    },
    {
      "cell_type": "markdown",
      "metadata": {
        "id": "OPzfr_Xmq2pG",
        "colab_type": "text"
      },
      "source": [
        "Bom, ordenando os filmes pela nota médias e [fatiando](https://www.alura.com.br/artigos/listas-no-python) os dados entre 2450 e 2500, temos uma região onde as médias são semelhates e provavelmente não tem apenas um único voto. Vamos comparar o fime *Wizard of Oz, **filmeId=919** e *Little Miss Sunshine* **filmeId=46578**.\n",
        "\n",
        "Para não precisar copiar e colar toda hora o plot dos gráficos vamos criar nossa primeira função, assim passamos apenas o FilmeId e temos as informações desejadas."
      ]
    },
    {
      "cell_type": "code",
      "metadata": {
        "id": "izXeKOEMI6ER",
        "colab_type": "code",
        "colab": {}
      },
      "source": [
        "def plot_filme(n):\n",
        "  notas_do_filme = avaliacoes.query(f\"filmeId=={n}\")[\"nota\"]\n",
        "  notas_do_filme.plot(kind='hist')\n",
        "  return notas_do_filme.describe()"
      ],
      "execution_count": 0,
      "outputs": []
    },
    {
      "cell_type": "markdown",
      "metadata": {
        "id": "0m79xtW9MNAq",
        "colab_type": "text"
      },
      "source": [
        "Definimos nossa [função plot em python](https://www.caelum.com.br/apostila-python-orientacao-objetos/funcoes/#parmetros-de-funo) e repare que estamos usando **F-string** para fazer a interpolação dos dados, se tiver tiver dúvida veja essa [explicação no fórum da alura](https://cursos.alura.com.br/forum/topico-para-que-serve-o-print-f-no-python-77720).\n",
        "\n",
        "Agora precisamos chamar a função!"
      ]
    },
    {
      "cell_type": "code",
      "metadata": {
        "id": "D0hq5bNXKyH7",
        "colab_type": "code",
        "outputId": "b3a44496-c20d-4a1a-86e7-72044702c4d3",
        "colab": {
          "base_uri": "https://localhost:8080/",
          "height": 418
        }
      },
      "source": [
        "#Mágico de Oz\n",
        "plot_filme(919)"
      ],
      "execution_count": 0,
      "outputs": [
        {
          "output_type": "execute_result",
          "data": {
            "text/plain": [
              "count    92.000000\n",
              "mean      3.880435\n",
              "std       1.025418\n",
              "min       1.000000\n",
              "25%       3.000000\n",
              "50%       4.000000\n",
              "75%       5.000000\n",
              "max       5.000000\n",
              "Name: nota, dtype: float64"
            ]
          },
          "metadata": {
            "tags": []
          },
          "execution_count": 48
        },
        {
          "output_type": "display_data",
          "data": {
            "image/png": "[encoded data removed]",
            "text/plain": [
              "<Figure size 432x288 with 1 Axes>"
            ]
          },
          "metadata": {
            "tags": []
          }
        }
      ]
    },
    {
      "cell_type": "markdown",
      "metadata": {
        "id": "O5DXB0OFKy3b",
        "colab_type": "text"
      },
      "source": [
        "\n",
        "\n",
        "A função plot, além de gerar o histograma também retorna algumas estatísticas. Vamos chamar a função agora para o filme *Little Miss Sunshine*."
      ]
    },
    {
      "cell_type": "code",
      "metadata": {
        "id": "zkC0s7BnL_h0",
        "colab_type": "code",
        "outputId": "35dcbd33-d612-4c65-9f0b-2452454b8747",
        "colab": {
          "base_uri": "https://localhost:8080/",
          "height": 421
        }
      },
      "source": [
        "plot_filme(46578)"
      ],
      "execution_count": 0,
      "outputs": [
        {
          "output_type": "execute_result",
          "data": {
            "text/plain": [
              "count    77.000000\n",
              "mean      3.883117\n",
              "std       0.842522\n",
              "min       1.000000\n",
              "25%       3.500000\n",
              "50%       4.000000\n",
              "75%       4.500000\n",
              "max       5.000000\n",
              "Name: nota, dtype: float64"
            ]
          },
          "metadata": {
            "tags": []
          },
          "execution_count": 49
        },
        {
          "output_type": "display_data",
          "data": {
            "image/png": "[encoded data removed]",
            "text/plain": [
              "<Figure size 432x288 with 1 Axes>"
            ]
          },
          "metadata": {
            "tags": []
          }
        }
      ]
    },
    {
      "cell_type": "markdown",
      "metadata": {
        "id": "d8Yme2yUYME5",
        "colab_type": "text"
      },
      "source": [
        "Ótimo, agora com essas informações conseguimos comparar melhor ambos os filmes. Analisando os histogramas vemos que muitas pessoas realmente amam **Wizard of Oz** (notas 5), mas também temos pessoas que não gostam de formal alguma (notas 1). Quando comparamos com a histograma temos um do **Little mis sunshine**, percebemos que os resultados se concentra entre valores medianos(notas 2.5-4). \n",
        "\n",
        "O que confirma nossa análise aqui é comparar os **25% 50% e 75%**. 50% é o valor da mediana, e ambos filmes tem mesma mediana, mas 25% e 75% são diferentes. Se você lembra lá da estatísitca esses são os [**1° 2° e 3° quartis**](https://pt.wikipedia.org/wiki/Quartil). \n",
        "\n",
        "Olha, mesclar os gráficos com as estatísticas ajuda a interpretar melhor os dados. Mas o que precisamos é uma imagem que nos ajude a interpretar os dados ainda melhor, o gráfico que nos ajuda neste caso é o **Boxplot**. Vamos adaptar nossa função para conseguir plotar o boxplot e interpretá-lo."
      ]
    },
    {
      "cell_type": "code",
      "metadata": {
        "id": "GfgAVFoafdZA",
        "colab_type": "code",
        "outputId": "dad56b19-be6f-43a7-9c3b-94b8fdc3a95d",
        "colab": {
          "base_uri": "https://localhost:8080/",
          "height": 700
        }
      },
      "source": [
        "def plot_filme(n):\n",
        "  notas_do_filme = avaliacoes.query(f\"filmeId=={n}\")[\"nota\"]\n",
        "  notas_do_filme.plot(kind='hist')\n",
        "  plt.show()\n",
        "  print('\\n')\n",
        "  notas_do_filme.plot.box()\n",
        "  plt.show()\n",
        "  return notas_do_filme.describe()\n",
        "\n",
        "plot_filme(919)"
      ],
      "execution_count": 0,
      "outputs": [
        {
          "output_type": "display_data",
          "data": {
            "image/png": "[encoded data removed]",
            "text/plain": [
              "<Figure size 432x288 with 1 Axes>"
            ]
          },
          "metadata": {
            "tags": []
          }
        },
        {
          "output_type": "stream",
          "text": [
            "\n",
            "\n"
          ],
          "name": "stdout"
        },
        {
          "output_type": "display_data",
          "data": {
            "image/png": "[encoded data removed]",
            "text/plain": [
              "<Figure size 432x288 with 1 Axes>"
            ]
          },
          "metadata": {
            "tags": []
          }
        },
        {
          "output_type": "execute_result",
          "data": {
            "text/plain": [
              "count    92.000000\n",
              "mean      3.880435\n",
              "std       1.025418\n",
              "min       1.000000\n",
              "25%       3.000000\n",
              "50%       4.000000\n",
              "75%       5.000000\n",
              "max       5.000000\n",
              "Name: nota, dtype: float64"
            ]
          },
          "metadata": {
            "tags": []
          },
          "execution_count": 50
        }
      ]
    },
    {
      "cell_type": "markdown",
      "metadata": {
        "id": "tQtVcphSh47m",
        "colab_type": "text"
      },
      "source": [
        "E aí, viu como é simples criar criar um [boxplot com o pandas](https://pandas.pydata.org/pandas-docs/stable/reference/api/pandas.DataFrame.plot.box.html)?\n",
        "\n",
        "Apenas chamamos o método ```.plot.box()```, agora o que precisamos fazer é interpretar este gráfico.\n",
        "\n",
        "Vamos focar primeiro na \"caixa\" a linha verde que divide a caixa em dois é a mediana (compare com as estatísticas geradas pelo discribe()), a parte superior da caixa é o 3° Quartil (75%) e a parte inferior é o 1° Quartil (25%).\n",
        "\n",
        "Agora repare nos limites inferior e superior, represetados pelas extremidades em preto. Por coincidência, nesta imagem os limites inferior e superior são equivalentes ao ponto de máximo e mínimo, mas nem sempre será assim, pois esse limite superir e inferior são calculados e dependem de Q1 e Q3. Algumas vezes os limites podem sobrepor os extremos das \"caixas\" e isso geralmente ocorre quando temos uma quantidade pequena de dados.\n",
        "\n",
        "Como tivemos sobreposição do limite superior vamos calcular o boxplot de outro filme, para analisar o resultado.\n"
      ]
    },
    {
      "cell_type": "code",
      "metadata": {
        "id": "yi-HJ5sK17Kh",
        "colab_type": "code",
        "outputId": "2e008366-7bbd-4dce-aa63-2d9385056092",
        "colab": {
          "base_uri": "https://localhost:8080/",
          "height": 703
        }
      },
      "source": [
        "plot_filme(46578)"
      ],
      "execution_count": 0,
      "outputs": [
        {
          "output_type": "display_data",
          "data": {
            "image/png": "[encoded data removed]",
            "text/plain": [
              "<Figure size 432x288 with 1 Axes>"
            ]
          },
          "metadata": {
            "tags": []
          }
        },
        {
          "output_type": "stream",
          "text": [
            "\n",
            "\n"
          ],
          "name": "stdout"
        },
        {
          "output_type": "display_data",
          "data": {
            "image/png": "[encoded data removed]",
            "text/plain": [
              "<Figure size 432x288 with 1 Axes>"
            ]
          },
          "metadata": {
            "tags": []
          }
        },
        {
          "output_type": "execute_result",
          "data": {
            "text/plain": [
              "count    77.000000\n",
              "mean      3.883117\n",
              "std       0.842522\n",
              "min       1.000000\n",
              "25%       3.500000\n",
              "50%       4.000000\n",
              "75%       4.500000\n",
              "max       5.000000\n",
              "Name: nota, dtype: float64"
            ]
          },
          "metadata": {
            "tags": []
          },
          "execution_count": 51
        }
      ]
    },
    {
      "cell_type": "markdown",
      "metadata": {
        "id": "nmtgu9Q42UNv",
        "colab_type": "text"
      },
      "source": [
        "Olha que legal, diferente do primeiro boxplot, neste os limites superiores não se sobrepõe e temos uma informação a mais, no caso temos essa bolinha localizada em **y=1**. A \"bolinha\" chamamos de valor discrepante, por ir além dos limites inferior e superior (chamamos na aula de [outliers](https://pt.wikipedia.org/wiki/Outlier), existem várias formas de calcular os outliers, mas no nosso caso esses são os outliers do boxplot).\n",
        "\n",
        "Não vamos entrar em todos os detalhes do boxplot mas recomendo a explicação do [wikipedia](https://pt.wikipedia.org/wiki/Diagrama_de_caixa), ela é muito completa, cheias de exemplo e imagens para facilitar o entendimento.\n",
        "\n",
        "Agora comparando os boxplot dos dois filmes deixa muito mais evidente as diferenças entre elas, o que ficava complexo olhando só médias e outras informações separadas.\n",
        "\n",
        "Embora melhoramos muito nossa qualidade de análise ainda temos mais um ponto. Estamos comparando os boxplot dos filmes, mas eles estão em imagens separadas, vamos juntas vários boxplot em uma imagem só. Veja como podemos fazer isso usando o **seaborn**, para aprendermos outra forma de plotar boxplot!\n"
      ]
    },
    {
      "cell_type": "code",
      "metadata": {
        "id": "Lo-rlsK5vsBk",
        "colab_type": "code",
        "outputId": "1574e212-d273-42d7-9bb1-b34ce1d7bde3",
        "colab": {
          "base_uri": "https://localhost:8080/",
          "height": 296
        }
      },
      "source": [
        "sns.boxplot(data = avaliacoes.query(\"filmeId in [1,2,919,46578]\"), x =\"filmeId\", y=\"nota\")"
      ],
      "execution_count": 0,
      "outputs": [
        {
          "output_type": "execute_result",
          "data": {
            "text/plain": [
              "<matplotlib.axes._subplots.AxesSubplot at 0x7f98b2e669e8>"
            ]
          },
          "metadata": {
            "tags": []
          },
          "execution_count": 52
        },
        {
          "output_type": "display_data",
          "data": {
            "image/png": "[encoded data removed]",
            "text/plain": [
              "<Figure size 432x288 with 1 Axes>"
            ]
          },
          "metadata": {
            "tags": []
          }
        }
      ]
    },
    {
      "cell_type": "markdown",
      "metadata": {
        "id": "Mfx1Vzy-Mbtq",
        "colab_type": "text"
      },
      "source": [
        "Chamamos o `sns.boxplot()` passando três parâmetros. Parâmetro dados é um dataframe das notas dos filmes com Toy Story, Jumanji, Wizard of Oz e Little miss sunshine (usamos o `.query()` para selecionar os dados), **x** é o Id do filme e **y** as respectivas notas. Agora conseguimos comparar as notas dos filmes de forma muito mais claram tente realiza a análise aí na sua casa!\n",
        "\n",
        "\n",
        "Com isso nós fechamos nossa segunda aula do **#quarentenadados**, viu quanta coisa aprendemos? Que tal colocar isso em prática?\n",
        "\n",
        "\n",
        "**Crie seu próprio notebook, reproduza nossa aula e resolva os desafios que deixamos para vocês**.\n",
        "\n",
        "\n",
        "Até a próxima aula!\n",
        "\n",
        "\n"
      ]
    },
    {
      "cell_type": "markdown",
      "metadata": {
        "id": "97Gxt8RlPFEj",
        "colab_type": "text"
      },
      "source": [
        "##Desafio 1 do [Guilherme Silveira](https://twitter.com/guilhermecaelum)\n",
        "\n",
        "Rotacionar os thicks (os nomes dos generos) do gráfico de barras verdes (o último), de forma a deixar as legendas mais legíveis."
      ]
    },
    {
      "cell_type": "code",
      "metadata": {
        "id": "XTiGTboTLJSs",
        "colab_type": "code",
        "outputId": "9947188b-d952-467f-b195-3318b2b0081d",
        "colab": {
          "base_uri": "https://localhost:8080/",
          "height": 561
        }
      },
      "source": [
        "import seaborn as sns\n",
        "sns.set_style(\"whitegrid\")\n",
        "\n",
        "filmes_por_genero = filmes[\"generos\"].str.get_dummies('|').sum().sort_values(ascending=False)\n",
        "plt.figure(figsize=(16,8))\n",
        "chart = sns.barplot(x=filmes_por_genero.index,\n",
        "            y=filmes_por_genero.values,\n",
        "            palette=sns.color_palette(\"BuGn_r\", n_colors=len(filmes_por_genero) + 4))\n",
        "chart.set_xticklabels(chart.get_xticklabels(), rotation=90)\n",
        "plt.show(chart)"
      ],
      "execution_count": 0,
      "outputs": [
        {
          "output_type": "display_data",
          "data": {
            "image/png": "[encoded data removed]",
            "text/plain": [
              "<Figure size 1152x576 with 1 Axes>"
            ]
          },
          "metadata": {
            "tags": []
          }
        }
      ]
    },
    {
      "cell_type": "markdown",
      "metadata": {
        "id": "5uIsDpkAz8oa",
        "colab_type": "text"
      },
      "source": [
        "## Desafio 2 do [Paulo Silveira](https://twitter.com/paulo_caelum)\n",
        "\n",
        "Encontar vários filmes com médias próximas e distribuições diferentes, use a função **plot_filmes(n)** para plotar."
      ]
    },
    {
      "cell_type": "code",
      "metadata": {
        "id": "YQAKwOXMMMbU",
        "colab_type": "code",
        "outputId": "815fd495-7284-4000-807f-574a7fd518a8",
        "colab": {
          "base_uri": "https://localhost:8080/",
          "height": 700
        }
      },
      "source": [
        "plot_filme(924) # 2001: A Space Odyssey (1968)"
      ],
      "execution_count": 0,
      "outputs": [
        {
          "output_type": "display_data",
          "data": {
            "image/png": "[encoded data removed]",
            "text/plain": [
              "<Figure size 432x288 with 1 Axes>"
            ]
          },
          "metadata": {
            "tags": []
          }
        },
        {
          "output_type": "stream",
          "text": [
            "\n",
            "\n"
          ],
          "name": "stdout"
        },
        {
          "output_type": "display_data",
          "data": {
            "image/png": "[encoded data removed]",
            "text/plain": [
              "<Figure size 432x288 with 1 Axes>"
            ]
          },
          "metadata": {
            "tags": []
          }
        },
        {
          "output_type": "execute_result",
          "data": {
            "text/plain": [
              "count    109.000000\n",
              "mean       3.894495\n",
              "std        1.103600\n",
              "min        1.000000\n",
              "25%        3.500000\n",
              "50%        4.000000\n",
              "75%        5.000000\n",
              "max        5.000000\n",
              "Name: nota, dtype: float64"
            ]
          },
          "metadata": {
            "tags": []
          },
          "execution_count": 54
        }
      ]
    },
    {
      "cell_type": "code",
      "metadata": {
        "id": "P3RrK2L0MNpd",
        "colab_type": "code",
        "outputId": "2865c258-ee19-4834-94b4-26b5f1162188",
        "colab": {
          "base_uri": "https://localhost:8080/",
          "height": 700
        }
      },
      "source": [
        "plot_filme(55820) # No Country for Old Men (2007)"
      ],
      "execution_count": 0,
      "outputs": [
        {
          "output_type": "display_data",
          "data": {
            "image/png": "[encoded data removed]",
            "text/plain": [
              "<Figure size 432x288 with 1 Axes>"
            ]
          },
          "metadata": {
            "tags": []
          }
        },
        {
          "output_type": "stream",
          "text": [
            "\n",
            "\n"
          ],
          "name": "stdout"
        },
        {
          "output_type": "display_data",
          "data": {
            "image/png": "[encoded data removed]",
            "text/plain": [
              "<Figure size 432x288 with 1 Axes>"
            ]
          },
          "metadata": {
            "tags": []
          }
        },
        {
          "output_type": "execute_result",
          "data": {
            "text/plain": [
              "count    64.000000\n",
              "mean      3.898438\n",
              "std       1.008612\n",
              "min       0.500000\n",
              "25%       3.500000\n",
              "50%       4.000000\n",
              "75%       4.500000\n",
              "max       5.000000\n",
              "Name: nota, dtype: float64"
            ]
          },
          "metadata": {
            "tags": []
          },
          "execution_count": 55
        }
      ]
    },
    {
      "cell_type": "code",
      "metadata": {
        "id": "Y0EEZPcVMUe5",
        "colab_type": "code",
        "outputId": "68c5fe25-4c0a-454f-ce5a-ff0b3f24ac73",
        "colab": {
          "base_uri": "https://localhost:8080/",
          "height": 700
        }
      },
      "source": [
        "plot_filme(2150) # Gods Must Be Crazy, The (1980)"
      ],
      "execution_count": 0,
      "outputs": [
        {
          "output_type": "display_data",
          "data": {
            "image/png": "[encoded data removed]",
            "text/plain": [
              "<Figure size 432x288 with 1 Axes>"
            ]
          },
          "metadata": {
            "tags": []
          }
        },
        {
          "output_type": "stream",
          "text": [
            "\n",
            "\n"
          ],
          "name": "stdout"
        },
        {
          "output_type": "display_data",
          "data": {
            "image/png": "[encoded data removed]",
            "text/plain": [
              "<Figure size 432x288 with 1 Axes>"
            ]
          },
          "metadata": {
            "tags": []
          }
        },
        {
          "output_type": "execute_result",
          "data": {
            "text/plain": [
              "count    28.000000\n",
              "mean      3.892857\n",
              "std       0.946310\n",
              "min       2.000000\n",
              "25%       3.000000\n",
              "50%       4.000000\n",
              "75%       5.000000\n",
              "max       5.000000\n",
              "Name: nota, dtype: float64"
            ]
          },
          "metadata": {
            "tags": []
          },
          "execution_count": 56
        }
      ]
    },
    {
      "cell_type": "markdown",
      "metadata": {
        "id": "NStHNYlcQrhs",
        "colab_type": "text"
      },
      "source": [
        "## Desafio 3 do [Paulo Silveira](https://twitter.com/paulo_caelum)\n",
        "\n",
        " Criar o boxplot dos 10 filmes com mais votos (não é com maior média, é com mais votos!). Não apenas plot mas também analise e tente tirar conclusões."
      ]
    },
    {
      "cell_type": "code",
      "metadata": {
        "id": "su5-xxLZNt5a",
        "colab_type": "code",
        "outputId": "081d2e78-25b9-4353-c397-c51f8bb8c281",
        "colab": {
          "base_uri": "https://localhost:8080/",
          "height": 614
        }
      },
      "source": [
        "top_10_votos_por_filme = filmes_com_media_e_votos.sort_values(by='total_votos', ascending=False).head(10)\n",
        "top_10_votos_por_filme_titulos = top_10_votos_por_filme['titulo'].to_list()\n",
        "top_10_votos_por_filme_ids = top_10_votos_por_filme['filmeId'].to_list()\n",
        "\n",
        "plt.figure(figsize=(18, 8))\n",
        "ax = sns.boxplot(x='filmeId', y='nota', data=avaliacoes.query(f\"filmeId in {top_10_votos_por_filme_ids}\"))\n",
        "ax.set_xticklabels(top_10_votos_por_filme_titulos, fontsize=12)\n",
        "ax.set_xlabel(\"Filme\", fontsize=16)\n",
        "ax.set_ylabel(\"Nota\", fontsize=16)\n",
        "plt.xticks(rotation=45)\n",
        "\n",
        "plt.show()"
      ],
      "execution_count": 0,
      "outputs": [
        {
          "output_type": "display_data",
          "data": {
            "image/png": "[encoded data removed]",
            "text/plain": [
              "<Figure size 1296x576 with 1 Axes>"
            ]
          },
          "metadata": {
            "tags": []
          }
        }
      ]
    },
    {
      "cell_type": "markdown",
      "metadata": {
        "id": "0ogSopISSYqK",
        "colab_type": "text"
      },
      "source": [
        "## Desafio 4 do [Guilherme Silveira](https://twitter.com/guilhermecaelum)\n",
        "\n",
        "Configurar a visualização do boxplot gerado pelo seaborn (último boxplot plotado na aula). Configurar o tamanho e colocar o nome dos filmes nos thicks."
      ]
    },
    {
      "cell_type": "code",
      "metadata": {
        "id": "3hGi6AGeQfk2",
        "colab_type": "code",
        "outputId": "9de60e70-c9ca-4540-df07-51ce933a3fba",
        "colab": {
          "base_uri": "https://localhost:8080/",
          "height": 396
        }
      },
      "source": [
        "plt.figure(figsize=(12, 6))\n",
        "ax = sns.boxplot(data = avaliacoes.query(\"filmeId in [1,2,919,46578]\"), x =\"filmeId\", y=\"nota\")\n",
        "ax.set_xticklabels(filmes.query(\"filmeId in [1,2,919,46578]\")['titulo'], fontsize=12)\n",
        "ax.set_xlabel(\"Filme\", fontsize=16)\n",
        "ax.set_ylabel(\"Nota\", fontsize=16)\n",
        "plt.show()"
      ],
      "execution_count": 0,
      "outputs": [
        {
          "output_type": "display_data",
          "data": {
            "image/png": "[encoded data removed]",
            "text/plain": [
              "<Figure size 864x432 with 1 Axes>"
            ]
          },
          "metadata": {
            "tags": []
          }
        }
      ]
    },
    {
      "cell_type": "markdown",
      "metadata": {
        "id": "xpVPzWlhTjiw",
        "colab_type": "text"
      },
      "source": [
        "## Desafio 5 do [Allan Spadini](https://twitter.com/allanspadini)\n",
        "\n",
        "Calcular moda, média e mediana dos filmes. Explore filmes com notas mais próximas de 0.5, 3 e 5."
      ]
    },
    {
      "cell_type": "code",
      "metadata": {
        "id": "rnYl-qGWS4tG",
        "colab_type": "code",
        "colab": {}
      },
      "source": [
        "def explora_filme(filme_id):\n",
        "    filme = filmes.query(f'filmeId == {filme_id}')\n",
        "    notas = avaliacoes.query(f'filmeId == {filme_id}')['nota']\n",
        "    \n",
        "    print(f'Filme: {filme.iloc[0, 1]}')\n",
        "    print()\n",
        "    \n",
        "    print(f'Moda: {notas.mode().values}')    \n",
        "    print(f'Média: {notas.mean()}')\n",
        "    print(f'Mediana: {notas.median()}')\n",
        "    print('------------')"
      ],
      "execution_count": 0,
      "outputs": []
    },
    {
      "cell_type": "code",
      "metadata": {
        "id": "IGFvqrygTVLj",
        "colab_type": "code",
        "outputId": "ed9811cf-3444-4464-8ee3-408abcf13594",
        "colab": {
          "base_uri": "https://localhost:8080/",
          "height": 323
        }
      },
      "source": [
        "explora_filme(8387)\n",
        "explora_filme(89386)\n",
        "explora_filme(3774)"
      ],
      "execution_count": 0,
      "outputs": [
        {
          "output_type": "stream",
          "text": [
            "Filme: Police Academy: Mission to Moscow (1994)\n",
            "\n",
            "Moda: [0.5]\n",
            "Média: 0.8\n",
            "Mediana: 0.5\n",
            "------------\n",
            "Filme: Pearl Jam Twenty (2011)\n",
            "\n",
            "Moda: [0.5]\n",
            "Média: 0.5\n",
            "Mediana: 0.5\n",
            "------------\n",
            "Filme: House Party 2 (1991)\n",
            "\n",
            "Moda: [0.5 1. ]\n",
            "Média: 0.75\n",
            "Mediana: 0.75\n",
            "------------\n"
          ],
          "name": "stdout"
        }
      ]
    },
    {
      "cell_type": "code",
      "metadata": {
        "id": "HMDhiNpvTgti",
        "colab_type": "code",
        "outputId": "acf533a0-0b30-48b4-f994-d8e1912b4e86",
        "colab": {
          "base_uri": "https://localhost:8080/",
          "height": 323
        }
      },
      "source": [
        "explora_filme(2041)\n",
        "explora_filme(7541)\n",
        "explora_filme(160080)"
      ],
      "execution_count": 0,
      "outputs": [
        {
          "output_type": "stream",
          "text": [
            "Filme: Condorman (1981)\n",
            "\n",
            "Moda: [4.]\n",
            "Média: 3.3333333333333335\n",
            "Mediana: 4.0\n",
            "------------\n",
            "Filme: 100 Girls (2000)\n",
            "\n",
            "Moda: [3.5]\n",
            "Média: 3.25\n",
            "Mediana: 3.5\n",
            "------------\n",
            "Filme: Ghostbusters (2016)\n",
            "\n",
            "Moda: [3.  3.5]\n",
            "Média: 3.125\n",
            "Mediana: 3.25\n",
            "------------\n"
          ],
          "name": "stdout"
        }
      ]
    },
    {
      "cell_type": "code",
      "metadata": {
        "id": "FzG9vg-STocE",
        "colab_type": "code",
        "outputId": "8e001c6d-a35b-454a-e442-0818a568356e",
        "colab": {
          "base_uri": "https://localhost:8080/",
          "height": 323
        }
      },
      "source": [
        "explora_filme(177593)\n",
        "explora_filme(1178)\n",
        "explora_filme(4334)"
      ],
      "execution_count": 0,
      "outputs": [
        {
          "output_type": "stream",
          "text": [
            "Filme: Three Billboards Outside Ebbing, Missouri (2017)\n",
            "\n",
            "Moda: [4.5 5. ]\n",
            "Média: 4.75\n",
            "Mediana: 4.75\n",
            "------------\n",
            "Filme: Paths of Glory (1957)\n",
            "\n",
            "Moda: [5.]\n",
            "Média: 4.541666666666667\n",
            "Mediana: 4.75\n",
            "------------\n",
            "Filme: Yi Yi (2000)\n",
            "\n",
            "Moda: [5.]\n",
            "Média: 4.6\n",
            "Mediana: 5.0\n",
            "------------\n"
          ],
          "name": "stdout"
        }
      ]
    },
    {
      "cell_type": "markdown",
      "metadata": {
        "id": "E1X5ReBxUNZq",
        "colab_type": "text"
      },
      "source": [
        "## Desafio 6 da [Thais André](https://twitter.com/thais_tandre)\n",
        "\n",
        "Plotar o boxplot e o histograma um do lado do outro (na mesma figura ou em figuras distintas, mas um do lado do outro).\n"
      ]
    },
    {
      "cell_type": "code",
      "metadata": {
        "id": "-3J9p_-7T6vn",
        "colab_type": "code",
        "outputId": "ef65c1f5-09db-4adf-d16b-eb3d4305f51a",
        "colab": {
          "base_uri": "https://localhost:8080/",
          "height": 374
        }
      },
      "source": [
        "pulp_fiction = avaliacoes.query('filmeId == 296')['nota']\n",
        "\n",
        "f, axes = plt.subplots(1, 2, figsize=(16, 6))\n",
        "\n",
        "pulp_fiction.plot(kind='hist', ax=axes[1])\n",
        "pulp_fiction.plot(kind='box', ax=axes[0])\n",
        "\n",
        "plt.show()"
      ],
      "execution_count": 0,
      "outputs": [
        {
          "output_type": "display_data",
          "data": {
            "image/png": "[encoded data removed]",
            "text/plain": [
              "<Figure size 1152x432 with 2 Axes>"
            ]
          },
          "metadata": {
            "tags": []
          }
        }
      ]
    },
    {
      "cell_type": "markdown",
      "metadata": {
        "id": "9sm-sJIPUfte",
        "colab_type": "text"
      },
      "source": [
        "## Desafio 7 do [Thiago Gonçalves](https://twitter.com/tgcsantos)\n",
        "\n",
        "Criar um gráfico de notas médias por ano (média geral considerando todos os filmes lançados naquele ano)."
      ]
    },
    {
      "cell_type": "code",
      "metadata": {
        "id": "QAJ31OMpW-rT",
        "colab_type": "code",
        "outputId": "998c2676-65dc-4a08-d3be-e812b65adc46",
        "colab": {
          "base_uri": "https://localhost:8080/",
          "height": 204
        }
      },
      "source": [
        "filmes_com_media_e_ano = filmes_com_media.copy()\n",
        "filmes_com_media_e_ano['ano'] = filmes_com_media['titulo'].str.extract(\"\\((\\d{4})\\)\")\n",
        "filmes_com_media_e_ano.head()"
      ],
      "execution_count": 0,
      "outputs": [
        {
          "output_type": "execute_result",
          "data": {
            "text/html": [
              "<div>\n",
              "<style scoped>\n",
              "    .dataframe tbody tr th:only-of-type {\n",
              "        vertical-align: middle;\n",
              "    }\n",
              "\n",
              "    .dataframe tbody tr th {\n",
              "        vertical-align: top;\n",
              "    }\n",
              "\n",
              "    .dataframe thead th {\n",
              "        text-align: right;\n",
              "    }\n",
              "</style>\n",
              "<table border=\"1\" class=\"dataframe\">\n",
              "  <thead>\n",
              "    <tr style=\"text-align: right;\">\n",
              "      <th></th>\n",
              "      <th>filmeId</th>\n",
              "      <th>titulo</th>\n",
              "      <th>generos</th>\n",
              "      <th>nota_media</th>\n",
              "      <th>ano</th>\n",
              "    </tr>\n",
              "  </thead>\n",
              "  <tbody>\n",
              "    <tr>\n",
              "      <th>0</th>\n",
              "      <td>1</td>\n",
              "      <td>Toy Story (1995)</td>\n",
              "      <td>Adventure|Animation|Children|Comedy|Fantasy</td>\n",
              "      <td>3.920930</td>\n",
              "      <td>1995</td>\n",
              "    </tr>\n",
              "    <tr>\n",
              "      <th>1</th>\n",
              "      <td>2</td>\n",
              "      <td>Jumanji (1995)</td>\n",
              "      <td>Adventure|Children|Fantasy</td>\n",
              "      <td>3.431818</td>\n",
              "      <td>1995</td>\n",
              "    </tr>\n",
              "    <tr>\n",
              "      <th>2</th>\n",
              "      <td>3</td>\n",
              "      <td>Grumpier Old Men (1995)</td>\n",
              "      <td>Comedy|Romance</td>\n",
              "      <td>3.259615</td>\n",
              "      <td>1995</td>\n",
              "    </tr>\n",
              "    <tr>\n",
              "      <th>3</th>\n",
              "      <td>4</td>\n",
              "      <td>Waiting to Exhale (1995)</td>\n",
              "      <td>Comedy|Drama|Romance</td>\n",
              "      <td>2.357143</td>\n",
              "      <td>1995</td>\n",
              "    </tr>\n",
              "    <tr>\n",
              "      <th>4</th>\n",
              "      <td>5</td>\n",
              "      <td>Father of the Bride Part II (1995)</td>\n",
              "      <td>Comedy</td>\n",
              "      <td>3.071429</td>\n",
              "      <td>1995</td>\n",
              "    </tr>\n",
              "  </tbody>\n",
              "</table>\n",
              "</div>"
            ],
            "text/plain": [
              "   filmeId                              titulo  ... nota_media   ano\n",
              "0        1                    Toy Story (1995)  ...   3.920930  1995\n",
              "1        2                      Jumanji (1995)  ...   3.431818  1995\n",
              "2        3             Grumpier Old Men (1995)  ...   3.259615  1995\n",
              "3        4            Waiting to Exhale (1995)  ...   2.357143  1995\n",
              "4        5  Father of the Bride Part II (1995)  ...   3.071429  1995\n",
              "\n",
              "[5 rows x 5 columns]"
            ]
          },
          "metadata": {
            "tags": []
          },
          "execution_count": 83
        }
      ]
    },
    {
      "cell_type": "code",
      "metadata": {
        "id": "EHTAbny4XXEr",
        "colab_type": "code",
        "outputId": "920eba5b-7d1c-4ab6-a962-28e790215852",
        "colab": {
          "base_uri": "https://localhost:8080/",
          "height": 469
        }
      },
      "source": [
        "nota_media_por_ano = filmes_com_media_e_ano.groupby('ano')['nota_media'].mean()\n",
        "\n",
        "plt.figure(figsize=(18, 8))\n",
        "nota_media_por_ano.plot()"
      ],
      "execution_count": 0,
      "outputs": [
        {
          "output_type": "execute_result",
          "data": {
            "text/plain": [
              "<matplotlib.axes._subplots.AxesSubplot at 0x7f98b0e16128>"
            ]
          },
          "metadata": {
            "tags": []
          },
          "execution_count": 84
        },
        {
          "output_type": "display_data",
          "data": {
            "image/png": "[encoded data removed]",
            "text/plain": [
              "<Figure size 1296x576 with 1 Axes>"
            ]
          },
          "metadata": {
            "tags": []
          }
        }
      ]
    },
    {
      "cell_type": "markdown",
      "metadata": {
        "id": "hhhZIxlUs1nk",
        "colab_type": "text"
      },
      "source": [
        "# Aula 3"
      ]
    },
    {
      "cell_type": "markdown",
      "metadata": {
        "id": "fAEWqh3otA2x",
        "colab_type": "text"
      },
      "source": [
        ""
      ]
    },
    {
      "cell_type": "code",
      "metadata": {
        "id": "WT2SZi9DtBDu",
        "colab_type": "code",
        "colab": {}
      },
      "source": [
        ""
      ],
      "execution_count": 0,
      "outputs": []
    },
    {
      "cell_type": "markdown",
      "metadata": {
        "id": "5ql55hUatBYQ",
        "colab_type": "text"
      },
      "source": [
        ""
      ]
    },
    {
      "cell_type": "code",
      "metadata": {
        "id": "VWUFrQnOtBh4",
        "colab_type": "code",
        "colab": {}
      },
      "source": [
        ""
      ],
      "execution_count": 0,
      "outputs": []
    },
    {
      "cell_type": "markdown",
      "metadata": {
        "id": "AQTY8dPEtBsY",
        "colab_type": "text"
      },
      "source": [
        ""
      ]
    },
    {
      "cell_type": "code",
      "metadata": {
        "id": "yOj4OOvZtB1x",
        "colab_type": "code",
        "colab": {}
      },
      "source": [
        ""
      ],
      "execution_count": 0,
      "outputs": []
    },
    {
      "cell_type": "markdown",
      "metadata": {
        "id": "3tePSIE3tB-B",
        "colab_type": "text"
      },
      "source": [
        ""
      ]
    },
    {
      "cell_type": "code",
      "metadata": {
        "id": "cNfbYSOytCFT",
        "colab_type": "code",
        "colab": {}
      },
      "source": [
        ""
      ],
      "execution_count": 0,
      "outputs": []
    },
    {
      "cell_type": "markdown",
      "metadata": {
        "id": "mOPRwR2RtCOU",
        "colab_type": "text"
      },
      "source": [
        ""
      ]
    },
    {
      "cell_type": "code",
      "metadata": {
        "id": "5Ay0zINatCXy",
        "colab_type": "code",
        "colab": {}
      },
      "source": [
        ""
      ],
      "execution_count": 0,
      "outputs": []
    },
    {
      "cell_type": "markdown",
      "metadata": {
        "id": "54vyj1tbtCgp",
        "colab_type": "text"
      },
      "source": [
        ""
      ]
    },
    {
      "cell_type": "code",
      "metadata": {
        "id": "IkXcdji3tCpb",
        "colab_type": "code",
        "colab": {}
      },
      "source": [
        ""
      ],
      "execution_count": 0,
      "outputs": []
    },
    {
      "cell_type": "markdown",
      "metadata": {
        "id": "qPG3UroitCyB",
        "colab_type": "text"
      },
      "source": [
        ""
      ]
    },
    {
      "cell_type": "code",
      "metadata": {
        "id": "Sqw7Feg4tC7X",
        "colab_type": "code",
        "colab": {}
      },
      "source": [
        ""
      ],
      "execution_count": 0,
      "outputs": []
    },
    {
      "cell_type": "markdown",
      "metadata": {
        "id": "Ixd4uZ3JtDUv",
        "colab_type": "text"
      },
      "source": [
        ""
      ]
    },
    {
      "cell_type": "code",
      "metadata": {
        "id": "Y1pRr5DBtEFs",
        "colab_type": "code",
        "colab": {}
      },
      "source": [
        ""
      ],
      "execution_count": 0,
      "outputs": []
    },
    {
      "cell_type": "markdown",
      "metadata": {
        "id": "NBodQDxqVKgN",
        "colab_type": "text"
      },
      "source": [
        "#Não esqueça de compartilhar a solução dos seus desafios com nossos instrutores, seja no twitter ou linkedin. Boa sorte!"
      ]
    }
  ]
}